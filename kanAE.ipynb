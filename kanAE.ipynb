{
  "cells": [
    {
      "cell_type": "markdown",
      "metadata": {
        "id": "view-in-github",
        "colab_type": "text"
      },
      "source": [
        "<a href=\"https://colab.research.google.com/github/sidhu2690/E2E-SSL/blob/main/kanAE.ipynb\" target=\"_parent\"><img src=\"https://colab.research.google.com/assets/colab-badge.svg\" alt=\"Open In Colab\"/></a>"
      ]
    },
    {
      "cell_type": "code",
      "execution_count": null,
      "id": "1211f88d",
      "metadata": {
        "_cell_guid": "b1076dfc-b9ad-4769-8c92-a6c4dae69d19",
        "_uuid": "8f2839f25d086af736a60e9eeb907d3b93b6e0e5",
        "execution": {
          "iopub.execute_input": "2024-07-17T20:06:26.321039Z",
          "iopub.status.busy": "2024-07-17T20:06:26.320461Z",
          "iopub.status.idle": "2024-07-17T20:10:05.872657Z",
          "shell.execute_reply": "2024-07-17T20:10:05.871674Z"
        },
        "papermill": {
          "duration": 219.559206,
          "end_time": "2024-07-17T20:10:05.874626",
          "exception": false,
          "start_time": "2024-07-17T20:06:26.315420",
          "status": "completed"
        },
        "tags": [],
        "id": "1211f88d",
        "outputId": "1c017a3d-e248-466f-b369-73b5eb0874b7"
      },
      "outputs": [
        {
          "name": "stdout",
          "output_type": "stream",
          "text": [
            "--2024-07-17 20:06:27--  https://cernbox.cern.ch/remote.php/dav/public-files/e3pqxcIznqdYyRv/Dataset_Specific_labelled.h5\r\n",
            "Resolving cernbox.cern.ch (cernbox.cern.ch)... 128.142.53.35, 137.138.120.151, 128.142.170.17, ...\r\n",
            "Connecting to cernbox.cern.ch (cernbox.cern.ch)|128.142.53.35|:443... connected.\r\n",
            "HTTP request sent, awaiting response... 200 OK\r\n",
            "Length: 5000042048 (4.7G) [application/octet-stream]\r\n",
            "Saving to: 'Dataset_Specific_labelled.h5'\r\n",
            "\r\n",
            "Dataset_Specific_la 100%[===================>]   4.66G  24.0MB/s    in 3m 11s  \r\n",
            "\r\n",
            "2024-07-17 20:10:05 (25.0 MB/s) - 'Dataset_Specific_labelled.h5' saved [5000042048/5000042048]\r\n",
            "\r\n"
          ]
        }
      ],
      "source": [
        "!wget https://cernbox.cern.ch/remote.php/dav/public-files/e3pqxcIznqdYyRv/Dataset_Specific_labelled.h5"
      ]
    },
    {
      "cell_type": "code",
      "execution_count": null,
      "id": "64dbeb67",
      "metadata": {
        "execution": {
          "iopub.execute_input": "2024-07-17T20:10:06.006373Z",
          "iopub.status.busy": "2024-07-17T20:10:06.006062Z",
          "iopub.status.idle": "2024-07-17T20:10:09.457604Z",
          "shell.execute_reply": "2024-07-17T20:10:09.456841Z"
        },
        "papermill": {
          "duration": 3.520221,
          "end_time": "2024-07-17T20:10:09.459859",
          "exception": false,
          "start_time": "2024-07-17T20:10:05.939638",
          "status": "completed"
        },
        "tags": [],
        "id": "64dbeb67"
      },
      "outputs": [],
      "source": [
        "import torch\n",
        "import torch.nn.functional as F\n",
        "import torch.nn as nn\n",
        "import torch.optim as optim\n",
        "\n",
        "class ChebyshevKANLayer(torch.nn.Module):\n",
        "    def __init__(self, input_dim, output_dim, degree, device):\n",
        "        super(ChebyshevKANLayer, self).__init__()\n",
        "        self.inputdim = input_dim\n",
        "        self.outdim = output_dim\n",
        "        self.degree = degree\n",
        "        self.device = device\n",
        "\n",
        "        self.cheby_coeffs = torch.nn.Parameter(torch.empty(input_dim, output_dim, degree + 1).to(device))\n",
        "        torch.nn.init.xavier_normal_(self.cheby_coeffs)\n",
        "        self.register_buffer(\"arange\", torch.arange(0, degree + 1, 1).to(device))\n",
        "\n",
        "    def chebyshev_polynomials(self, x):\n",
        "        T = [torch.ones_like(x).to(self.device), 2 * x]\n",
        "        for n in range(2, self.degree + 1):\n",
        "            T.append(2 * x * T[n - 1] - T[n - 2])\n",
        "        return torch.stack(T, dim=-1)\n",
        "\n",
        "    def forward(self, x):\n",
        "        batch_size, seq_length, input_dim = x.size()\n",
        "        x = x.view(-1, self.inputdim)\n",
        "        x = torch.tanh(x)\n",
        "        T = self.chebyshev_polynomials(x)\n",
        "        y = torch.einsum(\"bij,ioj->bo\", T, self.cheby_coeffs)\n",
        "        y = y.view(batch_size, seq_length, self.outdim)\n",
        "        return y\n",
        "\n",
        "class MultiheadKANAttention(torch.nn.Module):\n",
        "    def __init__(self, hidden_size, num_heads, rotation_matrix, degree=3, device='cpu'):\n",
        "        super().__init__()\n",
        "        self.hidden_size = hidden_size\n",
        "        self.num_heads = num_heads\n",
        "        self.head_dim = hidden_size // num_heads\n",
        "        self.position_emb = rotation_matrix.to(device)\n",
        "        self.device = device\n",
        "\n",
        "        self.q_linear = ChebyshevKANLayer(hidden_size, hidden_size, degree, device)\n",
        "        self.kv_linear = ChebyshevKANLayer(hidden_size, hidden_size * 2, degree, device)\n",
        "        self.out = torch.nn.Linear(hidden_size, hidden_size).to(device)\n",
        "\n",
        "    def forward(self, x, memory=None):\n",
        "        batch_size, seq_length, _ = x.size()\n",
        "        if memory is None:\n",
        "            q = self.q_linear(x)\n",
        "            kv = self.kv_linear(x)\n",
        "            q = q.reshape(batch_size, seq_length, self.num_heads, self.head_dim)\n",
        "            kv = kv.reshape(batch_size, -1, self.num_heads, 2 * self.head_dim)\n",
        "            queries = q.transpose(1, 2)\n",
        "            kv = kv.transpose(1, 2)\n",
        "            keys, values = kv.chunk(2, dim=-1)\n",
        "        else:\n",
        "            q = self.q_linear(x)\n",
        "            kv = self.kv_linear(memory)\n",
        "            q = q.reshape(batch_size, seq_length, self.num_heads, self.head_dim)\n",
        "            kv = kv.reshape(batch_size, -1, self.num_heads, 2 * self.head_dim)\n",
        "            queries = q.transpose(1, 2)\n",
        "            kv = kv.transpose(1, 2)\n",
        "            keys, values = kv.chunk(2, dim=-1)\n",
        "\n",
        "        queries = apply_rotary_pos_emb(queries, self.position_emb)\n",
        "        keys = apply_rotary_pos_emb(keys, self.position_emb)\n",
        "\n",
        "        scores = torch.matmul(queries, keys.transpose(2, 3))\n",
        "        scores = scores / (self.head_dim ** 0.5)\n",
        "        attention = F.softmax(scores, dim=-1)\n",
        "        context = torch.matmul(attention, values)\n",
        "        context = context.transpose(1, 2).contiguous()\n",
        "        context = context.reshape(batch_size, seq_length, self.hidden_size)\n",
        "        output = self.out(context)\n",
        "\n",
        "        return output\n",
        "\n",
        "class TransformerEncoderLayer(torch.nn.Module):\n",
        "    def __init__(self, hidden_size, num_heads, rotation_matrix, degree=3, device='cpu'):\n",
        "        super().__init__()\n",
        "        self.norm1 = RMSNorm(hidden_size, device=device)\n",
        "        self.attention = MultiheadKANAttention(hidden_size, num_heads, rotation_matrix, degree, device)\n",
        "        self.norm2 = RMSNorm(hidden_size, device=device)\n",
        "        self.ff = ChebyshevKANLayer(hidden_size, hidden_size, degree, device)\n",
        "\n",
        "    def forward(self, x):\n",
        "        x1 = self.attention(self.norm1(x))\n",
        "        x = x + x1\n",
        "        x2 = self.ff(self.norm2(x))\n",
        "        x = x + x2\n",
        "        return x\n",
        "\n",
        "class TransformerDecoderLayer(torch.nn.Module):\n",
        "    def __init__(self, hidden_size, num_heads, rotation_matrix, degree=3, device='cpu'):\n",
        "        super().__init__()\n",
        "        self.norm1 = RMSNorm(hidden_size, device=device)\n",
        "        self.self_attention = MultiheadKANAttention(hidden_size, num_heads, rotation_matrix, degree, device)\n",
        "        self.norm2 = RMSNorm(hidden_size, device=device)\n",
        "        self.cross_attention = MultiheadKANAttention(hidden_size, num_heads, rotation_matrix, degree, device)\n",
        "        self.norm3 = RMSNorm(hidden_size, device=device)\n",
        "        self.ff = ChebyshevKANLayer(hidden_size, hidden_size, degree, device)\n",
        "\n",
        "    def forward(self, x, enc_output):\n",
        "        x1 = self.self_attention(self.norm1(x))\n",
        "        x = x + x1\n",
        "        x2 = self.cross_attention(self.norm2(x), enc_output)\n",
        "        x = x + x2\n",
        "        x3 = self.ff(self.norm3(x))\n",
        "        x = x + x3\n",
        "        return x\n",
        "\n",
        "class RMSNorm(torch.nn.Module):\n",
        "    def __init__(self, hidden_size: int, eps: float = 1e-6, device='cpu'):\n",
        "        super().__init__()\n",
        "        self.eps = eps\n",
        "        self.weight = torch.nn.Parameter(torch.ones(hidden_size).to(device))\n",
        "\n",
        "    def _norm(self, x):\n",
        "        return x * torch.rsqrt(x.pow(2).mean(-1, keepdim=True) + self.eps)\n",
        "\n",
        "    def forward(self, x):\n",
        "        output = self._norm(x.float()).type_as(x)\n",
        "        return output * self.weight\n",
        "\n",
        "class RotaryPositionalEmbedding(torch.nn.Module):\n",
        "    def __init__(self, dim, max_seq_len, device='cpu'):\n",
        "        super(RotaryPositionalEmbedding, self).__init__()\n",
        "        self.dim = dim\n",
        "        self.max_seq_len = max_seq_len\n",
        "        inv_freq = 1.0 / (1000 ** (torch.arange(0, dim, 2).float() / dim))\n",
        "        self.register_buffer('inv_freq', inv_freq.to(device))\n",
        "        self.register_buffer('pos_enc', self._generate_positional_encoding(max_seq_len, device))\n",
        "\n",
        "    def _generate_positional_encoding(self, seq_len, device):\n",
        "        t = torch.arange(seq_len, device=device, dtype=self.inv_freq.dtype)\n",
        "        freqs = torch.einsum('i,j->ij', t, self.inv_freq)\n",
        "        pos_enc = torch.cat((freqs.sin(), freqs.cos()), dim=-1)\n",
        "        return pos_enc\n",
        "\n",
        "    def forward(self, seq_len):\n",
        "        return self.pos_enc[:seq_len, :]\n",
        "\n",
        "def apply_rotary_pos_emb(x, pos_emb):\n",
        "    x_cos, x_sin = torch.split(pos_emb, x.shape[-1] // 2, dim=-1)\n",
        "    x1_rot = (x[..., ::2] * x_cos) + (rotate_half(x[..., 1::2]) * x_sin)\n",
        "    x2_rot = (x[..., 1::2] * x_cos) + (rotate_half(x[..., ::2]) * x_sin)\n",
        "    x_rot = torch.cat([x1_rot, x2_rot], dim=-1)\n",
        "    return x_rot\n",
        "\n",
        "def rotate_half(x):\n",
        "    x1, x2 = torch.chunk(x, 2, dim=-1)\n",
        "    return torch.cat((-x2, x1), dim=-1)\n",
        "\n",
        "class TransformerEncoder(torch.nn.Module):\n",
        "    def __init__(self, num_layers, num_features, hidden_size, num_heads, max_seq_len, degree=3, device='cpu'):\n",
        "        super().__init__()\n",
        "        self.embedding = torch.nn.Linear(num_features, hidden_size).to(device)\n",
        "        head_dim = hidden_size // num_heads\n",
        "        rope = RotaryPositionalEmbedding(head_dim, max_seq_len, device)\n",
        "        self.rotation_matrix = rope(max_seq_len)\n",
        "        self.layers = torch.nn.ModuleList([\n",
        "            TransformerEncoderLayer(hidden_size, num_heads, self.rotation_matrix, degree, device)\n",
        "            for _ in range(num_layers)\n",
        "        ])\n",
        "\n",
        "    def forward(self, x):\n",
        "        x = self.embedding(x)\n",
        "        for layer in self.layers:\n",
        "            x = layer(x)\n",
        "        return x\n",
        "\n",
        "class TransformerDecoder(torch.nn.Module):\n",
        "    def __init__(self, num_layers, num_features, hidden_size, num_heads, max_seq_len, degree=3, device='cpu'):\n",
        "        super().__init__()\n",
        "        self.embedding = torch.nn.Linear(num_features, hidden_size).to(device)\n",
        "        head_dim = hidden_size // num_heads\n",
        "        rope = RotaryPositionalEmbedding(head_dim, max_seq_len, device)\n",
        "        self.rotation_matrix = rope(max_seq_len)\n",
        "        self.layers = torch.nn.ModuleList([\n",
        "            TransformerDecoderLayer(hidden_size, num_heads, self.rotation_matrix, degree, device)\n",
        "            for _ in range(num_layers)\n",
        "        ])\n",
        "\n",
        "    def forward(self, x, enc_output):\n",
        "        x = self.embedding(x)\n",
        "        for layer in self.layers:\n",
        "            x = layer(x, enc_output)\n",
        "        return x\n",
        "\n",
        "class Transformer(torch.nn.Module):\n",
        "    def __init__(self, in_channels, num_encoder_layers, num_decoder_layers, num_features, hidden_size, num_heads, max_seq_len, degree=3, device='cpu'):\n",
        "        super().__init__()\n",
        "        self.encoders = torch.nn.ModuleList()\n",
        "        self.decoders = torch.nn.ModuleList()\n",
        "        for _ in range(in_channels):\n",
        "            self.encoders.append(TransformerEncoder(num_encoder_layers, num_features, hidden_size, num_heads, max_seq_len, degree, device))\n",
        "            self.decoders.append(TransformerDecoder(num_decoder_layers, num_features, hidden_size, num_heads, max_seq_len, degree, device))\n",
        "        self.output_layer = torch.nn.Linear(hidden_size, num_features).to(device)\n",
        "        self.in_channels = in_channels\n",
        "        self.device = device\n",
        "\n",
        "    def forward(self, src):\n",
        "        channels = src.chunk(self.in_channels, dim=1)\n",
        "        outputs = []\n",
        "        for enc, dec, channel in zip(self.encoders, self.decoders, channels):\n",
        "            channel = channel.squeeze(1)\n",
        "            enc_output = enc(channel)\n",
        "            dec_output = dec(channel, enc_output)\n",
        "            outputs.append(self.output_layer(dec_output))\n",
        "        return torch.stack(outputs, dim=1)\n"
      ]
    },
    {
      "cell_type": "markdown",
      "id": "c873b120",
      "metadata": {
        "papermill": {
          "duration": 0.063594,
          "end_time": "2024-07-17T20:10:09.588935",
          "exception": false,
          "start_time": "2024-07-17T20:10:09.525341",
          "status": "completed"
        },
        "tags": [],
        "id": "c873b120"
      },
      "source": [
        "# Dataset"
      ]
    },
    {
      "cell_type": "code",
      "execution_count": null,
      "id": "91f685bb",
      "metadata": {
        "execution": {
          "iopub.execute_input": "2024-07-17T20:10:09.719888Z",
          "iopub.status.busy": "2024-07-17T20:10:09.719497Z",
          "iopub.status.idle": "2024-07-17T20:10:09.965161Z",
          "shell.execute_reply": "2024-07-17T20:10:09.964181Z"
        },
        "papermill": {
          "duration": 0.313449,
          "end_time": "2024-07-17T20:10:09.967302",
          "exception": false,
          "start_time": "2024-07-17T20:10:09.653853",
          "status": "completed"
        },
        "tags": [],
        "id": "91f685bb",
        "outputId": "39ef6f34-1856-454e-c3b4-8d51c35a57cf"
      },
      "outputs": [
        {
          "name": "stdout",
          "output_type": "stream",
          "text": [
            "Total dataset size: 10000\n",
            "Training dataset size: 7200\n",
            "Validation dataset size: 800\n",
            "Test dataset size: 1800\n",
            "Test validation dataset size: 200\n"
          ]
        }
      ],
      "source": [
        "import torch\n",
        "from torch.utils.data import Dataset, DataLoader, random_split\n",
        "import h5py as h5\n",
        "\n",
        "class MyDataset(Dataset):\n",
        "    def __init__(self, h5_path, transform=None):\n",
        "        f = h5.File(h5_path, 'r')\n",
        "        self.jet = f['jet']\n",
        "        self.Y = f['Y']\n",
        "        self.transform = transform\n",
        "\n",
        "    def __len__(self):\n",
        "        return len(self.Y)\n",
        "\n",
        "    def __getitem__(self, idx):\n",
        "        data = torch.from_numpy(self.jet[idx]).moveaxis(2, 0) / 255\n",
        "        label = torch.from_numpy(self.Y[idx])\n",
        "        return data, label\n",
        "\n",
        "class UnlabeledDataset(Dataset):\n",
        "    def __init__(self, labeled_dataset):\n",
        "        self.labeled_dataset = labeled_dataset\n",
        "\n",
        "    def __len__(self):\n",
        "        return len(self.labeled_dataset)\n",
        "\n",
        "    def __getitem__(self, idx):\n",
        "        data, _ = self.labeled_dataset[idx]\n",
        "        return data, data\n",
        "\n",
        "device = torch.device(\"cuda\" if torch.cuda.is_available() else \"cpu\")\n",
        "dset = MyDataset('/kaggle/working/Dataset_Specific_labelled.h5')\n",
        "\n",
        "train_val_size = int(0.8 * len(dset))\n",
        "test_size = len(dset) - train_val_size\n",
        "train_val_dataset, test_dataset = random_split(dset, [train_val_size, test_size])\n",
        "\n",
        "train_size = int(0.9 * train_val_size)\n",
        "val_size = train_val_size - train_size\n",
        "train_dataset, val_dataset = random_split(train_val_dataset, [train_size, val_size])\n",
        "\n",
        "test_val_size = int(0.1 * len(test_dataset))\n",
        "test_actual_size = len(test_dataset) - test_val_size\n",
        "test_val_dataset, test_actual_dataset = random_split(test_dataset, [test_val_size, test_actual_size])\n",
        "\n",
        "train_unlabeled_dataset = UnlabeledDataset(train_dataset)\n",
        "val_unlabeled_dataset = UnlabeledDataset(val_dataset)\n",
        "\n",
        "train_loader = DataLoader(train_unlabeled_dataset, batch_size=32, shuffle=True)\n",
        "val_loader = DataLoader(val_unlabeled_dataset, batch_size=32, shuffle=False)\n",
        "\n",
        "test_labeled_loader = DataLoader(test_actual_dataset, batch_size=32, shuffle=True)\n",
        "test_val_loader = DataLoader(test_val_dataset, batch_size=32, shuffle=False)\n",
        "\n",
        "print(f'Total dataset size: {len(dset)}')\n",
        "print(f'Training dataset size: {len(train_dataset)}')\n",
        "print(f'Validation dataset size: {len(val_dataset)}')\n",
        "print(f'Test dataset size: {len(test_actual_dataset)}')\n",
        "print(f'Test validation dataset size: {len(test_val_dataset)}')\n"
      ]
    },
    {
      "cell_type": "markdown",
      "id": "170e6074",
      "metadata": {
        "papermill": {
          "duration": 0.065792,
          "end_time": "2024-07-17T20:10:10.140306",
          "exception": false,
          "start_time": "2024-07-17T20:10:10.074514",
          "status": "completed"
        },
        "tags": [],
        "id": "170e6074"
      },
      "source": [
        "# AutoEncoder"
      ]
    },
    {
      "cell_type": "code",
      "execution_count": null,
      "id": "ff426439",
      "metadata": {
        "execution": {
          "iopub.execute_input": "2024-07-17T20:10:10.271784Z",
          "iopub.status.busy": "2024-07-17T20:10:10.271425Z",
          "iopub.status.idle": "2024-07-17T20:58:52.854032Z",
          "shell.execute_reply": "2024-07-17T20:58:52.852926Z"
        },
        "papermill": {
          "duration": 2922.650771,
          "end_time": "2024-07-17T20:58:52.856154",
          "exception": false,
          "start_time": "2024-07-17T20:10:10.205383",
          "status": "completed"
        },
        "tags": [],
        "id": "ff426439",
        "outputId": "dcea79a4-5515-4173-f370-bd4249a94604"
      },
      "outputs": [
        {
          "name": "stdout",
          "output_type": "stream",
          "text": [
            "Epoch [1/50], Loss: 0.1390\n",
            "Validation Loss: 0.0176\n",
            "Epoch [2/50], Loss: 0.0158\n",
            "Validation Loss: 0.0148\n",
            "Epoch [3/50], Loss: 0.0145\n",
            "Validation Loss: 0.0142\n",
            "Epoch [4/50], Loss: 0.0139\n",
            "Validation Loss: 0.0135\n",
            "Epoch [5/50], Loss: 0.0131\n",
            "Validation Loss: 0.0127\n",
            "Epoch [6/50], Loss: 0.0122\n",
            "Validation Loss: 0.0117\n",
            "Epoch [7/50], Loss: 0.0112\n",
            "Validation Loss: 0.0106\n",
            "Epoch [8/50], Loss: 0.0101\n",
            "Validation Loss: 0.0096\n",
            "Epoch [9/50], Loss: 0.0092\n",
            "Validation Loss: 0.0088\n",
            "Epoch [10/50], Loss: 0.0085\n",
            "Validation Loss: 0.0081\n",
            "Epoch [11/50], Loss: 0.0078\n",
            "Validation Loss: 0.0075\n",
            "Epoch [12/50], Loss: 0.0073\n",
            "Validation Loss: 0.0071\n",
            "Epoch [13/50], Loss: 0.0069\n",
            "Validation Loss: 0.0067\n",
            "Epoch [14/50], Loss: 0.0066\n",
            "Validation Loss: 0.0064\n",
            "Epoch [15/50], Loss: 0.0063\n",
            "Validation Loss: 0.0062\n",
            "Epoch [16/50], Loss: 0.0061\n",
            "Validation Loss: 0.0060\n",
            "Epoch [17/50], Loss: 0.0059\n",
            "Validation Loss: 0.0058\n",
            "Epoch [18/50], Loss: 0.0058\n",
            "Validation Loss: 0.0057\n",
            "Epoch [19/50], Loss: 0.0056\n",
            "Validation Loss: 0.0056\n",
            "Epoch [20/50], Loss: 0.0055\n",
            "Validation Loss: 0.0054\n",
            "Epoch [21/50], Loss: 0.0054\n",
            "Validation Loss: 0.0054\n",
            "Epoch [22/50], Loss: 0.0053\n",
            "Validation Loss: 0.0053\n",
            "Epoch [23/50], Loss: 0.0053\n",
            "Validation Loss: 0.0052\n",
            "Epoch [24/50], Loss: 0.0052\n",
            "Validation Loss: 0.0051\n",
            "Epoch [25/50], Loss: 0.0051\n",
            "Validation Loss: 0.0051\n",
            "Epoch [26/50], Loss: 0.0051\n",
            "Validation Loss: 0.0050\n",
            "Epoch [27/50], Loss: 0.0050\n",
            "Validation Loss: 0.0050\n",
            "Epoch [28/50], Loss: 0.0050\n",
            "Validation Loss: 0.0049\n",
            "Epoch [29/50], Loss: 0.0049\n",
            "Validation Loss: 0.0049\n",
            "Epoch [30/50], Loss: 0.0049\n",
            "Validation Loss: 0.0048\n",
            "Epoch [31/50], Loss: 0.0049\n",
            "Validation Loss: 0.0048\n",
            "Epoch [32/50], Loss: 0.0048\n",
            "Validation Loss: 0.0048\n",
            "Epoch [33/50], Loss: 0.0048\n",
            "Validation Loss: 0.0047\n",
            "Epoch [34/50], Loss: 0.0048\n",
            "Validation Loss: 0.0047\n",
            "Epoch [35/50], Loss: 0.0047\n",
            "Validation Loss: 0.0047\n",
            "Epoch [36/50], Loss: 0.0047\n",
            "Validation Loss: 0.0047\n",
            "Epoch [37/50], Loss: 0.0047\n",
            "Validation Loss: 0.0046\n",
            "Epoch [38/50], Loss: 0.0047\n",
            "Validation Loss: 0.0046\n",
            "Epoch [39/50], Loss: 0.0046\n",
            "Validation Loss: 0.0046\n",
            "Epoch [40/50], Loss: 0.0046\n",
            "Validation Loss: 0.0046\n",
            "Epoch [41/50], Loss: 0.0046\n",
            "Validation Loss: 0.0046\n",
            "Epoch [42/50], Loss: 0.0046\n",
            "Validation Loss: 0.0045\n",
            "Epoch [43/50], Loss: 0.0046\n",
            "Validation Loss: 0.0045\n",
            "Epoch [44/50], Loss: 0.0045\n",
            "Validation Loss: 0.0045\n",
            "Epoch [45/50], Loss: 0.0045\n",
            "Validation Loss: 0.0045\n",
            "Epoch [46/50], Loss: 0.0045\n",
            "Validation Loss: 0.0045\n",
            "Epoch [47/50], Loss: 0.0045\n",
            "Validation Loss: 0.0045\n",
            "Epoch [48/50], Loss: 0.0045\n",
            "Validation Loss: 0.0045\n",
            "Epoch [49/50], Loss: 0.0045\n",
            "Validation Loss: 0.0044\n",
            "Epoch [50/50], Loss: 0.0045\n",
            "Validation Loss: 0.0044\n"
          ]
        }
      ],
      "source": [
        "channels = 8\n",
        "height = 125\n",
        "width = 125\n",
        "\n",
        "autoencoder = Transformer(\n",
        "    in_channels=channels,\n",
        "    num_encoder_layers=2,\n",
        "    num_decoder_layers=2,\n",
        "    num_features=height,\n",
        "    hidden_size=64,\n",
        "    num_heads=4,\n",
        "    max_seq_len=height,\n",
        "    degree=3,\n",
        "    device=device\n",
        ").to(device)\n",
        "\n",
        "criterion = nn.BCELoss()\n",
        "optimizer = optim.Adam(autoencoder.parameters(), lr=0.0001)\n",
        "\n",
        "num_epochs = 50\n",
        "autoencoder.train()\n",
        "\n",
        "for epoch in range(num_epochs):\n",
        "    epoch_loss = 0\n",
        "    for batch_idx, (data, _) in enumerate(train_loader):\n",
        "        data = data.to(device)\n",
        "        optimizer.zero_grad()\n",
        "        output = autoencoder(data)\n",
        "        output = torch.sigmoid(output)\n",
        "        loss = criterion(output, data)\n",
        "        loss.backward()\n",
        "        optimizer.step()\n",
        "        epoch_loss += loss.item()\n",
        "\n",
        "    average_epoch_loss = epoch_loss / len(train_loader)\n",
        "    print(f'Epoch [{epoch+1}/{num_epochs}], Loss: {average_epoch_loss:.4f}')\n",
        "\n",
        "    # Validate\n",
        "    autoencoder.eval()\n",
        "    val_loss = 0\n",
        "    with torch.no_grad():\n",
        "        for batch_idx, (val_data, _) in enumerate(val_loader):\n",
        "            val_data = val_data.to(device)\n",
        "            val_output = autoencoder(val_data)\n",
        "            val_output = torch.sigmoid(val_output)\n",
        "            loss = criterion(val_output, val_data)\n",
        "            val_loss += loss.item()\n",
        "    average_val_loss = val_loss / len(val_loader)\n",
        "    print(f'Validation Loss: {average_val_loss:.4f}')\n",
        "    autoencoder.train()\n",
        "\n",
        "torch.save(autoencoder.state_dict(), 'pretrained_transformer.pth')"
      ]
    },
    {
      "cell_type": "markdown",
      "id": "22073cc4",
      "metadata": {
        "papermill": {
          "duration": 0.074541,
          "end_time": "2024-07-17T20:58:53.004458",
          "exception": false,
          "start_time": "2024-07-17T20:58:52.929917",
          "status": "completed"
        },
        "tags": [],
        "id": "22073cc4"
      },
      "source": [
        "# Linear Probe"
      ]
    },
    {
      "cell_type": "code",
      "execution_count": null,
      "id": "0cab82bf",
      "metadata": {
        "execution": {
          "iopub.execute_input": "2024-07-17T20:58:53.151361Z",
          "iopub.status.busy": "2024-07-17T20:58:53.150574Z",
          "iopub.status.idle": "2024-07-17T21:00:19.562062Z",
          "shell.execute_reply": "2024-07-17T21:00:19.561151Z"
        },
        "papermill": {
          "duration": 86.487453,
          "end_time": "2024-07-17T21:00:19.564201",
          "exception": false,
          "start_time": "2024-07-17T20:58:53.076748",
          "status": "completed"
        },
        "tags": [],
        "id": "0cab82bf",
        "outputId": "2cb46637-ce13-45b7-a188-62004352eff6"
      },
      "outputs": [
        {
          "name": "stderr",
          "output_type": "stream",
          "text": [
            "Epoch 1/30: 100%|██████████| 57/57 [00:02<00:00, 21.70it/s]\n"
          ]
        },
        {
          "name": "stdout",
          "output_type": "stream",
          "text": [
            "\n",
            "Epoch 1/30\n",
            "Train Loss: 0.5796, Train Accuracy: 70.44%\n",
            "Val Loss: 2.2786, Val Accuracy: 51.00%\n"
          ]
        },
        {
          "name": "stderr",
          "output_type": "stream",
          "text": [
            "Epoch 2/30: 100%|██████████| 57/57 [00:02<00:00, 22.04it/s]\n"
          ]
        },
        {
          "name": "stdout",
          "output_type": "stream",
          "text": [
            "\n",
            "Epoch 2/30\n",
            "Train Loss: 0.4893, Train Accuracy: 78.11%\n",
            "Val Loss: 1.0221, Val Accuracy: 52.00%\n"
          ]
        },
        {
          "name": "stderr",
          "output_type": "stream",
          "text": [
            "Epoch 3/30: 100%|██████████| 57/57 [00:02<00:00, 22.60it/s]\n"
          ]
        },
        {
          "name": "stdout",
          "output_type": "stream",
          "text": [
            "\n",
            "Epoch 3/30\n",
            "Train Loss: 0.4640, Train Accuracy: 79.83%\n",
            "Val Loss: 0.6234, Val Accuracy: 72.00%\n"
          ]
        },
        {
          "name": "stderr",
          "output_type": "stream",
          "text": [
            "Epoch 4/30: 100%|██████████| 57/57 [00:02<00:00, 21.86it/s]\n"
          ]
        },
        {
          "name": "stdout",
          "output_type": "stream",
          "text": [
            "\n",
            "Epoch 4/30\n",
            "Train Loss: 0.4510, Train Accuracy: 81.06%\n",
            "Val Loss: 0.4756, Val Accuracy: 82.50%\n"
          ]
        },
        {
          "name": "stderr",
          "output_type": "stream",
          "text": [
            "Epoch 5/30: 100%|██████████| 57/57 [00:02<00:00, 22.34it/s]\n"
          ]
        },
        {
          "name": "stdout",
          "output_type": "stream",
          "text": [
            "\n",
            "Epoch 5/30\n",
            "Train Loss: 0.4429, Train Accuracy: 80.78%\n",
            "Val Loss: 0.5372, Val Accuracy: 78.00%\n"
          ]
        },
        {
          "name": "stderr",
          "output_type": "stream",
          "text": [
            "Epoch 6/30: 100%|██████████| 57/57 [00:02<00:00, 22.79it/s]\n"
          ]
        },
        {
          "name": "stdout",
          "output_type": "stream",
          "text": [
            "\n",
            "Epoch 6/30\n",
            "Train Loss: 0.4362, Train Accuracy: 81.72%\n",
            "Val Loss: 0.4647, Val Accuracy: 85.00%\n"
          ]
        },
        {
          "name": "stderr",
          "output_type": "stream",
          "text": [
            "Epoch 7/30: 100%|██████████| 57/57 [00:02<00:00, 22.06it/s]\n"
          ]
        },
        {
          "name": "stdout",
          "output_type": "stream",
          "text": [
            "\n",
            "Epoch 7/30\n",
            "Train Loss: 0.4318, Train Accuracy: 82.50%\n",
            "Val Loss: 0.4487, Val Accuracy: 83.00%\n"
          ]
        },
        {
          "name": "stderr",
          "output_type": "stream",
          "text": [
            "Epoch 8/30: 100%|██████████| 57/57 [00:02<00:00, 22.43it/s]\n"
          ]
        },
        {
          "name": "stdout",
          "output_type": "stream",
          "text": [
            "\n",
            "Epoch 8/30\n",
            "Train Loss: 0.4224, Train Accuracy: 82.83%\n",
            "Val Loss: 0.4466, Val Accuracy: 81.50%\n"
          ]
        },
        {
          "name": "stderr",
          "output_type": "stream",
          "text": [
            "Epoch 9/30: 100%|██████████| 57/57 [00:02<00:00, 22.30it/s]\n"
          ]
        },
        {
          "name": "stdout",
          "output_type": "stream",
          "text": [
            "\n",
            "Epoch 9/30\n",
            "Train Loss: 0.4199, Train Accuracy: 82.44%\n",
            "Val Loss: 0.4434, Val Accuracy: 82.50%\n"
          ]
        },
        {
          "name": "stderr",
          "output_type": "stream",
          "text": [
            "Epoch 10/30: 100%|██████████| 57/57 [00:02<00:00, 22.26it/s]\n"
          ]
        },
        {
          "name": "stdout",
          "output_type": "stream",
          "text": [
            "\n",
            "Epoch 10/30\n",
            "Train Loss: 0.4176, Train Accuracy: 83.78%\n",
            "Val Loss: 0.4494, Val Accuracy: 81.00%\n"
          ]
        },
        {
          "name": "stderr",
          "output_type": "stream",
          "text": [
            "Epoch 11/30: 100%|██████████| 57/57 [00:02<00:00, 22.74it/s]\n"
          ]
        },
        {
          "name": "stdout",
          "output_type": "stream",
          "text": [
            "\n",
            "Epoch 11/30\n",
            "Train Loss: 0.4191, Train Accuracy: 82.44%\n",
            "Val Loss: 0.4392, Val Accuracy: 82.00%\n"
          ]
        },
        {
          "name": "stderr",
          "output_type": "stream",
          "text": [
            "Epoch 12/30: 100%|██████████| 57/57 [00:02<00:00, 22.57it/s]\n"
          ]
        },
        {
          "name": "stdout",
          "output_type": "stream",
          "text": [
            "\n",
            "Epoch 12/30\n",
            "Train Loss: 0.4044, Train Accuracy: 84.00%\n",
            "Val Loss: 0.4434, Val Accuracy: 81.00%\n"
          ]
        },
        {
          "name": "stderr",
          "output_type": "stream",
          "text": [
            "Epoch 13/30: 100%|██████████| 57/57 [00:02<00:00, 22.42it/s]\n"
          ]
        },
        {
          "name": "stdout",
          "output_type": "stream",
          "text": [
            "\n",
            "Epoch 13/30\n",
            "Train Loss: 0.4066, Train Accuracy: 82.72%\n",
            "Val Loss: 0.4441, Val Accuracy: 80.50%\n"
          ]
        },
        {
          "name": "stderr",
          "output_type": "stream",
          "text": [
            "Epoch 14/30: 100%|██████████| 57/57 [00:02<00:00, 21.87it/s]\n"
          ]
        },
        {
          "name": "stdout",
          "output_type": "stream",
          "text": [
            "\n",
            "Epoch 14/30\n",
            "Train Loss: 0.4156, Train Accuracy: 83.11%\n",
            "Val Loss: 0.4475, Val Accuracy: 80.00%\n"
          ]
        },
        {
          "name": "stderr",
          "output_type": "stream",
          "text": [
            "Epoch 15/30: 100%|██████████| 57/57 [00:02<00:00, 21.53it/s]\n"
          ]
        },
        {
          "name": "stdout",
          "output_type": "stream",
          "text": [
            "\n",
            "Epoch 15/30\n",
            "Train Loss: 0.3999, Train Accuracy: 83.56%\n",
            "Val Loss: 0.4496, Val Accuracy: 80.50%\n"
          ]
        },
        {
          "name": "stderr",
          "output_type": "stream",
          "text": [
            "Epoch 16/30: 100%|██████████| 57/57 [00:02<00:00, 22.55it/s]\n"
          ]
        },
        {
          "name": "stdout",
          "output_type": "stream",
          "text": [
            "\n",
            "Epoch 16/30\n",
            "Train Loss: 0.3967, Train Accuracy: 83.44%\n",
            "Val Loss: 0.4493, Val Accuracy: 80.50%\n"
          ]
        },
        {
          "name": "stderr",
          "output_type": "stream",
          "text": [
            "Epoch 17/30: 100%|██████████| 57/57 [00:02<00:00, 21.76it/s]\n"
          ]
        },
        {
          "name": "stdout",
          "output_type": "stream",
          "text": [
            "\n",
            "Epoch 17/30\n",
            "Train Loss: 0.3888, Train Accuracy: 83.50%\n",
            "Val Loss: 0.4506, Val Accuracy: 80.50%\n"
          ]
        },
        {
          "name": "stderr",
          "output_type": "stream",
          "text": [
            "Epoch 18/30: 100%|██████████| 57/57 [00:02<00:00, 22.82it/s]\n"
          ]
        },
        {
          "name": "stdout",
          "output_type": "stream",
          "text": [
            "\n",
            "Epoch 18/30\n",
            "Train Loss: 0.3897, Train Accuracy: 84.33%\n",
            "Val Loss: 0.4489, Val Accuracy: 81.00%\n"
          ]
        },
        {
          "name": "stderr",
          "output_type": "stream",
          "text": [
            "Epoch 19/30: 100%|██████████| 57/57 [00:02<00:00, 22.12it/s]\n"
          ]
        },
        {
          "name": "stdout",
          "output_type": "stream",
          "text": [
            "\n",
            "Epoch 19/30\n",
            "Train Loss: 0.3929, Train Accuracy: 83.44%\n",
            "Val Loss: 0.4492, Val Accuracy: 81.00%\n"
          ]
        },
        {
          "name": "stderr",
          "output_type": "stream",
          "text": [
            "Epoch 20/30: 100%|██████████| 57/57 [00:02<00:00, 22.37it/s]\n"
          ]
        },
        {
          "name": "stdout",
          "output_type": "stream",
          "text": [
            "\n",
            "Epoch 20/30\n",
            "Train Loss: 0.3955, Train Accuracy: 83.72%\n",
            "Val Loss: 0.4494, Val Accuracy: 81.00%\n"
          ]
        },
        {
          "name": "stderr",
          "output_type": "stream",
          "text": [
            "Epoch 21/30: 100%|██████████| 57/57 [00:02<00:00, 22.36it/s]\n"
          ]
        },
        {
          "name": "stdout",
          "output_type": "stream",
          "text": [
            "\n",
            "Epoch 21/30\n",
            "Train Loss: 0.3948, Train Accuracy: 84.28%\n",
            "Val Loss: 0.4494, Val Accuracy: 81.00%\n"
          ]
        },
        {
          "name": "stderr",
          "output_type": "stream",
          "text": [
            "Epoch 22/30: 100%|██████████| 57/57 [00:02<00:00, 22.31it/s]\n"
          ]
        },
        {
          "name": "stdout",
          "output_type": "stream",
          "text": [
            "\n",
            "Epoch 22/30\n",
            "Train Loss: 0.3930, Train Accuracy: 84.67%\n",
            "Val Loss: 0.4495, Val Accuracy: 81.00%\n"
          ]
        },
        {
          "name": "stderr",
          "output_type": "stream",
          "text": [
            "Epoch 23/30: 100%|██████████| 57/57 [00:02<00:00, 22.37it/s]\n"
          ]
        },
        {
          "name": "stdout",
          "output_type": "stream",
          "text": [
            "\n",
            "Epoch 23/30\n",
            "Train Loss: 0.4033, Train Accuracy: 83.22%\n",
            "Val Loss: 0.4497, Val Accuracy: 80.50%\n"
          ]
        },
        {
          "name": "stderr",
          "output_type": "stream",
          "text": [
            "Epoch 24/30: 100%|██████████| 57/57 [00:02<00:00, 22.40it/s]\n"
          ]
        },
        {
          "name": "stdout",
          "output_type": "stream",
          "text": [
            "\n",
            "Epoch 24/30\n",
            "Train Loss: 0.3987, Train Accuracy: 83.06%\n",
            "Val Loss: 0.4496, Val Accuracy: 80.50%\n"
          ]
        },
        {
          "name": "stderr",
          "output_type": "stream",
          "text": [
            "Epoch 25/30: 100%|██████████| 57/57 [00:02<00:00, 22.29it/s]\n"
          ]
        },
        {
          "name": "stdout",
          "output_type": "stream",
          "text": [
            "\n",
            "Epoch 25/30\n",
            "Train Loss: 0.3935, Train Accuracy: 84.33%\n",
            "Val Loss: 0.4495, Val Accuracy: 80.50%\n"
          ]
        },
        {
          "name": "stderr",
          "output_type": "stream",
          "text": [
            "Epoch 26/30: 100%|██████████| 57/57 [00:02<00:00, 21.89it/s]\n"
          ]
        },
        {
          "name": "stdout",
          "output_type": "stream",
          "text": [
            "\n",
            "Epoch 26/30\n",
            "Train Loss: 0.3924, Train Accuracy: 84.00%\n",
            "Val Loss: 0.4496, Val Accuracy: 80.50%\n"
          ]
        },
        {
          "name": "stderr",
          "output_type": "stream",
          "text": [
            "Epoch 27/30: 100%|██████████| 57/57 [00:02<00:00, 22.86it/s]\n"
          ]
        },
        {
          "name": "stdout",
          "output_type": "stream",
          "text": [
            "\n",
            "Epoch 27/30\n",
            "Train Loss: 0.3875, Train Accuracy: 84.06%\n",
            "Val Loss: 0.4496, Val Accuracy: 81.00%\n"
          ]
        },
        {
          "name": "stderr",
          "output_type": "stream",
          "text": [
            "Epoch 28/30: 100%|██████████| 57/57 [00:02<00:00, 22.12it/s]\n"
          ]
        },
        {
          "name": "stdout",
          "output_type": "stream",
          "text": [
            "\n",
            "Epoch 28/30\n",
            "Train Loss: 0.3921, Train Accuracy: 84.83%\n",
            "Val Loss: 0.4493, Val Accuracy: 81.00%\n"
          ]
        },
        {
          "name": "stderr",
          "output_type": "stream",
          "text": [
            "Epoch 29/30: 100%|██████████| 57/57 [00:02<00:00, 22.38it/s]\n"
          ]
        },
        {
          "name": "stdout",
          "output_type": "stream",
          "text": [
            "\n",
            "Epoch 29/30\n",
            "Train Loss: 0.3971, Train Accuracy: 83.50%\n",
            "Val Loss: 0.4495, Val Accuracy: 81.00%\n"
          ]
        },
        {
          "name": "stderr",
          "output_type": "stream",
          "text": [
            "Epoch 30/30: 100%|██████████| 57/57 [00:02<00:00, 22.26it/s]\n"
          ]
        },
        {
          "name": "stdout",
          "output_type": "stream",
          "text": [
            "\n",
            "Epoch 30/30\n",
            "Train Loss: 0.3911, Train Accuracy: 84.00%\n",
            "Val Loss: 0.4497, Val Accuracy: 81.00%\n"
          ]
        },
        {
          "data": {
            "image/png": "[encoded data removed]",
            "text/plain": [
              "<Figure size 1200x500 with 2 Axes>"
            ]
          },
          "metadata": {},
          "output_type": "display_data"
        }
      ],
      "source": [
        "from tqdm import tqdm\n",
        "import matplotlib.pyplot as plt\n",
        "\n",
        "channels = 8\n",
        "height = 125\n",
        "width = 125\n",
        "\n",
        "device = torch.device(\"cuda\" if torch.cuda.is_available() else \"cpu\")\n",
        "\n",
        "pretrained_autoencoder = Transformer(\n",
        "    in_channels=channels,\n",
        "    num_encoder_layers=2,\n",
        "    num_decoder_layers=2,\n",
        "    num_features=height,\n",
        "    hidden_size=64,\n",
        "    num_heads=4,\n",
        "    max_seq_len=height,\n",
        "    degree=3,\n",
        "    device=device\n",
        ").to(device)\n",
        "\n",
        "# Load the pretrained weights\n",
        "pretrained_autoencoder.load_state_dict(torch.load('pretrained_transformer.pth'))\n",
        "\n",
        "pretrained_encoders = nn.ModuleList([encoder for encoder in pretrained_autoencoder.encoders])\n",
        "\n",
        "# Define the LinearProbe model\n",
        "class LinearProbe(nn.Module):\n",
        "    def __init__(self, in_channels, pretrained_encoders, hidden_dim, num_classes):\n",
        "        super().__init__()\n",
        "        self.pretrained_encoders = pretrained_encoders\n",
        "        self.in_channels = in_channels\n",
        "        self.hidden_dim = hidden_dim\n",
        "\n",
        "        # Freeze the encoder parameters\n",
        "        for encoder in self.pretrained_encoders:\n",
        "            for param in encoder.parameters():\n",
        "                param.requires_grad = False\n",
        "\n",
        "        self.flatten_dim = hidden_dim * in_channels\n",
        "        self.batchnorm = nn.BatchNorm1d(self.flatten_dim, momentum=0.01)\n",
        "        self.dropout = nn.Dropout(0.1)\n",
        "        self.linear = nn.Linear(self.flatten_dim, num_classes)\n",
        "\n",
        "    def forward(self, x):\n",
        "        channels = x.chunk(self.in_channels, dim=1)\n",
        "        outputs = []\n",
        "        for enc, channel in zip(self.pretrained_encoders, channels):\n",
        "            channel = channel.squeeze(1)\n",
        "            enc_output = enc(channel)\n",
        "            summed_output = enc_output.sum(dim=1)  # Summing over the sequence length dimension\n",
        "            outputs.append(summed_output)\n",
        "\n",
        "        x = torch.cat(outputs, dim=1)  # Concatenate along the channel dimension\n",
        "        x = self.batchnorm(x)\n",
        "        x = self.dropout(x)\n",
        "        return self.linear(x)\n",
        "\n",
        "def train_linear_probe(model, train_loader, val_loader, criterion, optimizer, num_epochs, device):\n",
        "    scheduler = optim.lr_scheduler.ReduceLROnPlateau(optimizer, 'min', patience=3, factor=0.1)\n",
        "\n",
        "    train_losses, val_losses = [], []\n",
        "    train_accuracies, val_accuracies = [], []\n",
        "\n",
        "    for epoch in range(num_epochs):\n",
        "        model.train()\n",
        "        train_loss = 0.0\n",
        "        train_correct = 0\n",
        "        train_total = 0\n",
        "\n",
        "        progress_bar = tqdm(train_loader, desc=f\"Epoch {epoch+1}/{num_epochs}\")\n",
        "        for data, labels in progress_bar:\n",
        "            data, labels = data.to(device), labels.float().to(device)\n",
        "            labels = labels.unsqueeze(1) if len(labels.shape) == 1 else labels\n",
        "\n",
        "            optimizer.zero_grad()\n",
        "            outputs = model(data)\n",
        "            loss = criterion(outputs, labels)\n",
        "            loss.backward()\n",
        "            optimizer.step()\n",
        "\n",
        "            train_loss += loss.item() * data.size(0)\n",
        "            predicted = (torch.sigmoid(outputs) > 0.5).float()\n",
        "            train_correct += (predicted == labels).sum().item()\n",
        "            train_total += labels.size(0)\n",
        "\n",
        "        train_loss /= len(train_loader.dataset)\n",
        "        train_accuracy = 100. * train_correct / train_total\n",
        "        train_losses.append(train_loss)\n",
        "        train_accuracies.append(train_accuracy)\n",
        "\n",
        "        # Validation\n",
        "        model.eval()\n",
        "        val_loss = 0.0\n",
        "        val_correct = 0\n",
        "        val_total = 0\n",
        "        with torch.no_grad():\n",
        "            for data, labels in val_loader:\n",
        "                data, labels = data.to(device), labels.float().to(device)\n",
        "                labels = labels.unsqueeze(1) if len(labels.shape) == 1 else labels\n",
        "\n",
        "                outputs = model(data)\n",
        "                loss = criterion(outputs, labels)\n",
        "\n",
        "                val_loss += loss.item() * data.size(0)\n",
        "                predicted = (torch.sigmoid(outputs) > 0.5).float()\n",
        "                val_correct += (predicted == labels).sum().item()\n",
        "                val_total += labels.size(0)\n",
        "\n",
        "        val_loss /= len(val_loader.dataset)\n",
        "        val_accuracy = 100. * val_correct / val_total\n",
        "        val_losses.append(val_loss)\n",
        "        val_accuracies.append(val_accuracy)\n",
        "\n",
        "        print(f\"\\nEpoch {epoch+1}/{num_epochs}\")\n",
        "        print(f\"Train Loss: {train_loss:.4f}, Train Accuracy: {train_accuracy:.2f}%\")\n",
        "        print(f\"Val Loss: {val_loss:.4f}, Val Accuracy: {val_accuracy:.2f}%\")\n",
        "\n",
        "        scheduler.step(val_loss)\n",
        "\n",
        "    return train_losses, val_losses, train_accuracies, val_accuracies\n",
        "\n",
        "if __name__ == \"__main__\":\n",
        "    num_classes = 1\n",
        "\n",
        "    linear_probe = LinearProbe(channels, pretrained_encoders, hidden_dim=64, num_classes=num_classes).to(device)\n",
        "\n",
        "    criterion = nn.BCEWithLogitsLoss()\n",
        "    optimizer = optim.Adam(linear_probe.parameters(), lr=0.001)\n",
        "\n",
        "    num_epochs = 30\n",
        "    train_losses, val_losses, train_accuracies, val_accuracies = train_linear_probe(linear_probe, test_labeled_loader, test_val_loader, criterion, optimizer, num_epochs, device)\n",
        "\n",
        "    # Plot the learning curves\n",
        "    epochs = range(1, num_epochs + 1)\n",
        "\n",
        "    plt.figure(figsize=(12, 5))\n",
        "\n",
        "    # Plot Loss\n",
        "    plt.subplot(1, 2, 1)\n",
        "    plt.plot(epochs, train_losses, 'b', label='Training loss')\n",
        "    plt.plot(epochs, val_losses, 'r', label='Validation loss')\n",
        "    plt.title('Training and Validation Loss')\n",
        "    plt.xlabel('Epochs')\n",
        "    plt.ylabel('Loss')\n",
        "    plt.legend()\n",
        "\n",
        "    # Plot Accuracy\n",
        "    plt.subplot(1, 2, 2)\n",
        "    plt.plot(epochs, train_accuracies, 'b', label='Training accuracy')\n",
        "    plt.plot(epochs, val_accuracies, 'r', label='Validation accuracy')\n",
        "    plt.title('Training and Validation Accuracy')\n",
        "    plt.xlabel('Epochs')\n",
        "    plt.ylabel('Accuracy')\n",
        "    plt.legend()\n",
        "\n",
        "    plt.show()\n"
      ]
    },
    {
      "cell_type": "code",
      "execution_count": null,
      "id": "48f94446",
      "metadata": {
        "papermill": {
          "duration": 0.126288,
          "end_time": "2024-07-17T21:00:19.817493",
          "exception": false,
          "start_time": "2024-07-17T21:00:19.691205",
          "status": "completed"
        },
        "tags": [],
        "id": "48f94446"
      },
      "outputs": [],
      "source": []
    }
  ],
  "metadata": {
    "kaggle": {
      "accelerator": "nvidiaTeslaT4",
      "dataSources": [],
      "dockerImageVersionId": 30733,
      "isGpuEnabled": true,
      "isInternetEnabled": true,
      "language": "python",
      "sourceType": "notebook"
    },
    "kernelspec": {
      "display_name": "Python 3",
      "language": "python",
      "name": "python3"
    },
    "language_info": {
      "codemirror_mode": {
        "name": "ipython",
        "version": 3
      },
      "file_extension": ".py",
      "mimetype": "text/x-python",
      "name": "python",
      "nbconvert_exporter": "python",
      "pygments_lexer": "ipython3",
      "version": "3.10.13"
    },
    "papermill": {
      "default_parameters": {},
      "duration": 3237.582508,
      "end_time": "2024-07-17T21:00:21.171816",
      "environment_variables": {},
      "exception": null,
      "input_path": "__notebook__.ipynb",
      "output_path": "__notebook__.ipynb",
      "parameters": {},
      "start_time": "2024-07-17T20:06:23.589308",
      "version": "2.5.0"
    },
    "colab": {
      "provenance": [],
      "include_colab_link": true
    }
  },
  "nbformat": 4,
  "nbformat_minor": 5
}