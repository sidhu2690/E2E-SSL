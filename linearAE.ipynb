{
  "cells": [
    {
      "cell_type": "markdown",
      "metadata": {
        "id": "view-in-github",
        "colab_type": "text"
      },
      "source": [
        "<a href=\"https://colab.research.google.com/github/sidhu2690/E2E-SSL/blob/main/linearAE.ipynb\" target=\"_parent\"><img src=\"https://colab.research.google.com/assets/colab-badge.svg\" alt=\"Open In Colab\"/></a>"
      ]
    },
    {
      "cell_type": "code",
      "execution_count": null,
      "id": "1be1cd68",
      "metadata": {
        "_cell_guid": "b1076dfc-b9ad-4769-8c92-a6c4dae69d19",
        "_uuid": "8f2839f25d086af736a60e9eeb907d3b93b6e0e5",
        "execution": {
          "iopub.execute_input": "2024-07-17T20:30:08.445909Z",
          "iopub.status.busy": "2024-07-17T20:30:08.445536Z",
          "iopub.status.idle": "2024-07-17T20:33:38.691676Z",
          "shell.execute_reply": "2024-07-17T20:33:38.690382Z"
        },
        "papermill": {
          "duration": 210.254067,
          "end_time": "2024-07-17T20:33:38.694113",
          "exception": false,
          "start_time": "2024-07-17T20:30:08.440046",
          "status": "completed"
        },
        "tags": [],
        "id": "1be1cd68",
        "outputId": "0a071f10-6117-4224-ffd7-ce5b79f50193"
      },
      "outputs": [
        {
          "name": "stdout",
          "output_type": "stream",
          "text": [
            "--2024-07-17 20:30:09--  https://cernbox.cern.ch/remote.php/dav/public-files/e3pqxcIznqdYyRv/Dataset_Specific_labelled.h5\r\n",
            "Resolving cernbox.cern.ch (cernbox.cern.ch)... 137.138.120.151, 128.142.53.35, 128.142.170.17, ...\r\n",
            "Connecting to cernbox.cern.ch (cernbox.cern.ch)|137.138.120.151|:443... connected.\r\n",
            "HTTP request sent, awaiting response... 200 OK\r\n",
            "Length: 5000042048 (4.7G) [application/octet-stream]\r\n",
            "Saving to: 'Dataset_Specific_labelled.h5'\r\n",
            "\r\n",
            "Dataset_Specific_la 100%[===================>]   4.66G  27.7MB/s    in 2m 57s  \r\n",
            "\r\n",
            "2024-07-17 20:33:38 (26.9 MB/s) - 'Dataset_Specific_labelled.h5' saved [5000042048/5000042048]\r\n",
            "\r\n"
          ]
        }
      ],
      "source": [
        "!wget https://cernbox.cern.ch/remote.php/dav/public-files/e3pqxcIznqdYyRv/Dataset_Specific_labelled.h5"
      ]
    },
    {
      "cell_type": "code",
      "execution_count": null,
      "id": "ecff09f8",
      "metadata": {
        "execution": {
          "iopub.execute_input": "2024-07-17T20:33:38.820424Z",
          "iopub.status.busy": "2024-07-17T20:33:38.820067Z",
          "iopub.status.idle": "2024-07-17T20:33:42.393199Z",
          "shell.execute_reply": "2024-07-17T20:33:42.392228Z"
        },
        "papermill": {
          "duration": 3.639402,
          "end_time": "2024-07-17T20:33:42.395543",
          "exception": false,
          "start_time": "2024-07-17T20:33:38.756141",
          "status": "completed"
        },
        "tags": [],
        "id": "ecff09f8"
      },
      "outputs": [],
      "source": [
        "import torch\n",
        "import torch.nn.functional as F\n",
        "import torch.nn as nn\n",
        "import torch.optim as optim\n",
        "\n",
        "class MultiheadKANAttention(torch.nn.Module):\n",
        "    def __init__(self, hidden_size, num_heads, rotation_matrix, device='cpu'):\n",
        "        super().__init__()\n",
        "        self.hidden_size = hidden_size\n",
        "        self.num_heads = num_heads\n",
        "        self.head_dim = hidden_size // num_heads\n",
        "        self.position_emb = rotation_matrix.to(device)\n",
        "        self.device = device\n",
        "\n",
        "        self.q_linear = torch.nn.Linear(hidden_size, hidden_size).to(device)\n",
        "        self.kv_linear = torch.nn.Linear(hidden_size, hidden_size * 2).to(device)\n",
        "        self.out = torch.nn.Linear(hidden_size, hidden_size).to(device)\n",
        "\n",
        "    def forward(self, x, memory=None):\n",
        "        batch_size, seq_length, _ = x.size()\n",
        "        if memory is None:\n",
        "            q = self.q_linear(x)\n",
        "            kv = self.kv_linear(x)\n",
        "            q = q.reshape(batch_size, seq_length, self.num_heads, self.head_dim)\n",
        "            kv = kv.reshape(batch_size, -1, self.num_heads, 2 * self.head_dim)\n",
        "            queries = q.transpose(1, 2)\n",
        "            kv = kv.transpose(1, 2)\n",
        "            keys, values = kv.chunk(2, dim=-1)\n",
        "        else:\n",
        "            q = self.q_linear(x)\n",
        "            kv = self.kv_linear(memory)\n",
        "            q = q.reshape(batch_size, seq_length, self.num_heads, self.head_dim)\n",
        "            kv = kv.reshape(batch_size, -1, self.num_heads, 2 * self.head_dim)\n",
        "            queries = q.transpose(1, 2)\n",
        "            kv = kv.transpose(1, 2)\n",
        "            keys, values = kv.chunk(2, dim=-1)\n",
        "\n",
        "        queries = apply_rotary_pos_emb(queries, self.position_emb)\n",
        "        keys = apply_rotary_pos_emb(keys, self.position_emb)\n",
        "\n",
        "        scores = torch.matmul(queries, keys.transpose(2, 3))\n",
        "        scores = scores / (self.head_dim ** 0.5)\n",
        "        attention = F.softmax(scores, dim=-1)\n",
        "        context = torch.matmul(attention, values)\n",
        "        context = context.transpose(1, 2).contiguous()\n",
        "        context = context.reshape(batch_size, seq_length, self.hidden_size)\n",
        "        output = self.out(context)\n",
        "\n",
        "        return output\n",
        "\n",
        "class TransformerEncoderLayer(torch.nn.Module):\n",
        "    def __init__(self, hidden_size, num_heads, rotation_matrix, device='cpu'):\n",
        "        super().__init__()\n",
        "        self.norm1 = RMSNorm(hidden_size, device=device)\n",
        "        self.attention = MultiheadKANAttention(hidden_size, num_heads, rotation_matrix, device)\n",
        "        self.norm2 = RMSNorm(hidden_size, device=device)\n",
        "        self.ff = torch.nn.Linear(hidden_size, hidden_size).to(device)\n",
        "\n",
        "    def forward(self, x):\n",
        "        x1 = self.attention(self.norm1(x))\n",
        "        x = x + x1\n",
        "        x2 = self.ff(self.norm2(x))\n",
        "        x = x + x2\n",
        "        return x\n",
        "\n",
        "class TransformerDecoderLayer(torch.nn.Module):\n",
        "    def __init__(self, hidden_size, num_heads, rotation_matrix, device='cpu'):\n",
        "        super().__init__()\n",
        "        self.norm1 = RMSNorm(hidden_size, device=device)\n",
        "        self.self_attention = MultiheadKANAttention(hidden_size, num_heads, rotation_matrix, device)\n",
        "        self.norm2 = RMSNorm(hidden_size, device=device)\n",
        "        self.cross_attention = MultiheadKANAttention(hidden_size, num_heads, rotation_matrix, device)\n",
        "        self.norm3 = RMSNorm(hidden_size, device=device)\n",
        "        self.ff = torch.nn.Linear(hidden_size, hidden_size).to(device)\n",
        "\n",
        "    def forward(self, x, enc_output):\n",
        "        x1 = self.self_attention(self.norm1(x))\n",
        "        x = x + x1\n",
        "        x2 = self.cross_attention(self.norm2(x), enc_output)\n",
        "        x = x + x2\n",
        "        x3 = self.ff(self.norm3(x))\n",
        "        x = x + x3\n",
        "        return x\n",
        "\n",
        "class RMSNorm(torch.nn.Module):\n",
        "    def __init__(self, hidden_size: int, eps: float = 1e-6, device='cpu'):\n",
        "        super().__init__()\n",
        "        self.eps = eps\n",
        "        self.weight = torch.nn.Parameter(torch.ones(hidden_size).to(device))\n",
        "\n",
        "    def _norm(self, x):\n",
        "        return x * torch.rsqrt(x.pow(2).mean(-1, keepdim=True) + self.eps)\n",
        "\n",
        "    def forward(self, x):\n",
        "        output = self._norm(x.float()).type_as(x)\n",
        "        return output * self.weight\n",
        "\n",
        "class RotaryPositionalEmbedding(torch.nn.Module):\n",
        "    def __init__(self, dim, max_seq_len, device='cpu'):\n",
        "        super(RotaryPositionalEmbedding, self).__init__()\n",
        "        self.dim = dim\n",
        "        self.max_seq_len = max_seq_len\n",
        "        inv_freq = 1.0 / (1000 ** (torch.arange(0, dim, 2).float() / dim))\n",
        "        self.register_buffer('inv_freq', inv_freq.to(device))\n",
        "        self.register_buffer('pos_enc', self._generate_positional_encoding(max_seq_len, device))\n",
        "\n",
        "    def _generate_positional_encoding(self, seq_len, device):\n",
        "        t = torch.arange(seq_len, device=device, dtype=self.inv_freq.dtype)\n",
        "        freqs = torch.einsum('i,j->ij', t, self.inv_freq)\n",
        "        pos_enc = torch.cat((freqs.sin(), freqs.cos()), dim=-1)\n",
        "        return pos_enc\n",
        "\n",
        "    def forward(self, seq_len):\n",
        "        return self.pos_enc[:seq_len, :]\n",
        "\n",
        "def apply_rotary_pos_emb(x, pos_emb):\n",
        "    x_cos, x_sin = torch.split(pos_emb, x.shape[-1] // 2, dim=-1)\n",
        "    x1_rot = (x[..., ::2] * x_cos) + (rotate_half(x[..., 1::2]) * x_sin)\n",
        "    x2_rot = (x[..., 1::2] * x_cos) + (rotate_half(x[..., ::2]) * x_sin)\n",
        "    x_rot = torch.cat([x1_rot, x2_rot], dim=-1)\n",
        "    return x_rot\n",
        "\n",
        "def rotate_half(x):\n",
        "    x1, x2 = torch.chunk(x, 2, dim=-1)\n",
        "    return torch.cat((-x2, x1), dim=-1)\n",
        "\n",
        "class TransformerEncoder(torch.nn.Module):\n",
        "    def __init__(self, num_layers, num_features, hidden_size, num_heads, max_seq_len, device='cpu'):\n",
        "        super().__init__()\n",
        "        self.embedding = torch.nn.Linear(num_features, hidden_size).to(device)\n",
        "        head_dim = hidden_size // num_heads\n",
        "        rope = RotaryPositionalEmbedding(head_dim, max_seq_len, device)\n",
        "        self.rotation_matrix = rope(max_seq_len)\n",
        "        self.layers = torch.nn.ModuleList([\n",
        "            TransformerEncoderLayer(hidden_size, num_heads, self.rotation_matrix, device)\n",
        "            for _ in range(num_layers)\n",
        "        ])\n",
        "\n",
        "    def forward(self, x):\n",
        "        x = self.embedding(x)\n",
        "        for layer in self.layers:\n",
        "            x = layer(x)\n",
        "        return x\n",
        "\n",
        "class TransformerDecoder(torch.nn.Module):\n",
        "    def __init__(self, num_layers, num_features, hidden_size, num_heads, max_seq_len, device='cpu'):\n",
        "        super().__init__()\n",
        "        self.embedding = torch.nn.Linear(num_features, hidden_size).to(device)\n",
        "        head_dim = hidden_size // num_heads\n",
        "        rope = RotaryPositionalEmbedding(head_dim, max_seq_len, device)\n",
        "        self.rotation_matrix = rope(max_seq_len)\n",
        "        self.layers = torch.nn.ModuleList([\n",
        "            TransformerDecoderLayer(hidden_size, num_heads, self.rotation_matrix, device)\n",
        "            for _ in range(num_layers)\n",
        "        ])\n",
        "\n",
        "    def forward(self, x, enc_output):\n",
        "        x = self.embedding(x)\n",
        "        for layer in self.layers:\n",
        "            x = layer(x, enc_output)\n",
        "        return x\n",
        "\n",
        "class Transformer(torch.nn.Module):\n",
        "    def __init__(self, in_channels, num_encoder_layers, num_decoder_layers, num_features, hidden_size, num_heads, max_seq_len, device='cpu'):\n",
        "        super().__init__()\n",
        "        self.encoders = torch.nn.ModuleList()\n",
        "        self.decoders = torch.nn.ModuleList()\n",
        "        for _ in range(in_channels):\n",
        "            self.encoders.append(TransformerEncoder(num_encoder_layers, num_features, hidden_size, num_heads, max_seq_len, device))\n",
        "            self.decoders.append(TransformerDecoder(num_decoder_layers, num_features, hidden_size, num_heads, max_seq_len, device))\n",
        "        self.output_layer = torch.nn.Linear(hidden_size, num_features).to(device)\n",
        "        self.in_channels = in_channels\n",
        "        self.device = device\n",
        "\n",
        "    def forward(self, src):\n",
        "        channels = src.chunk(self.in_channels, dim=1)\n",
        "        outputs = []\n",
        "        for enc, dec, channel in zip(self.encoders, self.decoders, channels):\n",
        "            channel = channel.squeeze(1)\n",
        "            enc_output = enc(channel)\n",
        "            dec_output = dec(channel, enc_output)\n",
        "            outputs.append(self.output_layer(dec_output))\n",
        "        return torch.stack(outputs, dim=1)\n"
      ]
    },
    {
      "cell_type": "markdown",
      "id": "b021e6bc",
      "metadata": {
        "papermill": {
          "duration": 0.065421,
          "end_time": "2024-07-17T20:33:42.524867",
          "exception": false,
          "start_time": "2024-07-17T20:33:42.459446",
          "status": "completed"
        },
        "tags": [],
        "id": "b021e6bc"
      },
      "source": [
        "# Dataset"
      ]
    },
    {
      "cell_type": "code",
      "execution_count": null,
      "id": "44b8f475",
      "metadata": {
        "execution": {
          "iopub.execute_input": "2024-07-17T20:33:42.656338Z",
          "iopub.status.busy": "2024-07-17T20:33:42.655249Z",
          "iopub.status.idle": "2024-07-17T20:33:42.904348Z",
          "shell.execute_reply": "2024-07-17T20:33:42.903375Z"
        },
        "papermill": {
          "duration": 0.320676,
          "end_time": "2024-07-17T20:33:42.906488",
          "exception": false,
          "start_time": "2024-07-17T20:33:42.585812",
          "status": "completed"
        },
        "tags": [],
        "id": "44b8f475",
        "outputId": "f2c45333-c81b-42a0-ed03-d72b4657216b"
      },
      "outputs": [
        {
          "name": "stdout",
          "output_type": "stream",
          "text": [
            "Total dataset size: 10000\n",
            "Training dataset size: 7200\n",
            "Validation dataset size: 800\n",
            "Test dataset size: 1800\n",
            "Test validation dataset size: 200\n"
          ]
        }
      ],
      "source": [
        "import torch\n",
        "from torch.utils.data import Dataset, DataLoader, random_split\n",
        "import h5py as h5\n",
        "\n",
        "class MyDataset(Dataset):\n",
        "    def __init__(self, h5_path, transform=None):\n",
        "        f = h5.File(h5_path, 'r')\n",
        "        self.jet = f['jet']\n",
        "        self.Y = f['Y']\n",
        "        self.transform = transform\n",
        "\n",
        "    def __len__(self):\n",
        "        return len(self.Y)\n",
        "\n",
        "    def __getitem__(self, idx):\n",
        "        data = torch.from_numpy(self.jet[idx]).moveaxis(2, 0) / 255\n",
        "        label = torch.from_numpy(self.Y[idx])\n",
        "        return data, label\n",
        "\n",
        "class UnlabeledDataset(Dataset):\n",
        "    def __init__(self, labeled_dataset):\n",
        "        self.labeled_dataset = labeled_dataset\n",
        "\n",
        "    def __len__(self):\n",
        "        return len(self.labeled_dataset)\n",
        "\n",
        "    def __getitem__(self, idx):\n",
        "        data, _ = self.labeled_dataset[idx]\n",
        "        return data, data\n",
        "\n",
        "device = torch.device(\"cuda\" if torch.cuda.is_available() else \"cpu\")\n",
        "dset = MyDataset('/kaggle/working/Dataset_Specific_labelled.h5')\n",
        "\n",
        "train_val_size = int(0.8 * len(dset))\n",
        "test_size = len(dset) - train_val_size\n",
        "train_val_dataset, test_dataset = random_split(dset, [train_val_size, test_size])\n",
        "\n",
        "train_size = int(0.9 * train_val_size)\n",
        "val_size = train_val_size - train_size\n",
        "train_dataset, val_dataset = random_split(train_val_dataset, [train_size, val_size])\n",
        "\n",
        "test_val_size = int(0.1 * len(test_dataset))\n",
        "test_actual_size = len(test_dataset) - test_val_size\n",
        "test_val_dataset, test_actual_dataset = random_split(test_dataset, [test_val_size, test_actual_size])\n",
        "\n",
        "train_unlabeled_dataset = UnlabeledDataset(train_dataset)\n",
        "val_unlabeled_dataset = UnlabeledDataset(val_dataset)\n",
        "\n",
        "train_loader = DataLoader(train_unlabeled_dataset, batch_size=32, shuffle=True)\n",
        "val_loader = DataLoader(val_unlabeled_dataset, batch_size=32, shuffle=False)\n",
        "\n",
        "test_labeled_loader = DataLoader(test_actual_dataset, batch_size=32, shuffle=True)\n",
        "test_val_loader = DataLoader(test_val_dataset, batch_size=32, shuffle=False)\n",
        "\n",
        "print(f'Total dataset size: {len(dset)}')\n",
        "print(f'Training dataset size: {len(train_dataset)}')\n",
        "print(f'Validation dataset size: {len(val_dataset)}')\n",
        "print(f'Test dataset size: {len(test_actual_dataset)}')\n",
        "print(f'Test validation dataset size: {len(test_val_dataset)}')\n"
      ]
    },
    {
      "cell_type": "markdown",
      "id": "0832c1ec",
      "metadata": {
        "papermill": {
          "duration": 0.10595,
          "end_time": "2024-07-17T20:33:43.074824",
          "exception": false,
          "start_time": "2024-07-17T20:33:42.968874",
          "status": "completed"
        },
        "tags": [],
        "id": "0832c1ec"
      },
      "source": [
        "# AutoEncoder"
      ]
    },
    {
      "cell_type": "code",
      "execution_count": null,
      "id": "1f730070",
      "metadata": {
        "execution": {
          "iopub.execute_input": "2024-07-17T20:33:43.204969Z",
          "iopub.status.busy": "2024-07-17T20:33:43.204494Z",
          "iopub.status.idle": "2024-07-17T21:11:00.317087Z",
          "shell.execute_reply": "2024-07-17T21:11:00.316112Z"
        },
        "papermill": {
          "duration": 2237.182543,
          "end_time": "2024-07-17T21:11:00.319531",
          "exception": false,
          "start_time": "2024-07-17T20:33:43.136988",
          "status": "completed"
        },
        "tags": [],
        "id": "1f730070",
        "outputId": "c68282f7-fc05-4969-d9ed-0bd7250114bc"
      },
      "outputs": [
        {
          "name": "stdout",
          "output_type": "stream",
          "text": [
            "Epoch [1/50], Loss: 0.1769\n",
            "Validation Loss: 0.0183\n",
            "Epoch [2/50], Loss: 0.0164\n",
            "Validation Loss: 0.0151\n",
            "Epoch [3/50], Loss: 0.0148\n",
            "Validation Loss: 0.0146\n",
            "Epoch [4/50], Loss: 0.0144\n",
            "Validation Loss: 0.0143\n",
            "Epoch [5/50], Loss: 0.0141\n",
            "Validation Loss: 0.0139\n",
            "Epoch [6/50], Loss: 0.0137\n",
            "Validation Loss: 0.0134\n",
            "Epoch [7/50], Loss: 0.0131\n",
            "Validation Loss: 0.0126\n",
            "Epoch [8/50], Loss: 0.0122\n",
            "Validation Loss: 0.0118\n",
            "Epoch [9/50], Loss: 0.0113\n",
            "Validation Loss: 0.0108\n",
            "Epoch [10/50], Loss: 0.0101\n",
            "Validation Loss: 0.0095\n",
            "Epoch [11/50], Loss: 0.0088\n",
            "Validation Loss: 0.0083\n",
            "Epoch [12/50], Loss: 0.0078\n",
            "Validation Loss: 0.0075\n",
            "Epoch [13/50], Loss: 0.0072\n",
            "Validation Loss: 0.0070\n",
            "Epoch [14/50], Loss: 0.0069\n",
            "Validation Loss: 0.0067\n",
            "Epoch [15/50], Loss: 0.0066\n",
            "Validation Loss: 0.0065\n",
            "Epoch [16/50], Loss: 0.0064\n",
            "Validation Loss: 0.0064\n",
            "Epoch [17/50], Loss: 0.0063\n",
            "Validation Loss: 0.0062\n",
            "Epoch [18/50], Loss: 0.0061\n",
            "Validation Loss: 0.0061\n",
            "Epoch [19/50], Loss: 0.0060\n",
            "Validation Loss: 0.0060\n",
            "Epoch [20/50], Loss: 0.0059\n",
            "Validation Loss: 0.0058\n",
            "Epoch [21/50], Loss: 0.0057\n",
            "Validation Loss: 0.0057\n",
            "Epoch [22/50], Loss: 0.0056\n",
            "Validation Loss: 0.0056\n",
            "Epoch [23/50], Loss: 0.0055\n",
            "Validation Loss: 0.0055\n",
            "Epoch [24/50], Loss: 0.0054\n",
            "Validation Loss: 0.0054\n",
            "Epoch [25/50], Loss: 0.0053\n",
            "Validation Loss: 0.0053\n",
            "Epoch [26/50], Loss: 0.0052\n",
            "Validation Loss: 0.0052\n",
            "Epoch [27/50], Loss: 0.0051\n",
            "Validation Loss: 0.0051\n",
            "Epoch [28/50], Loss: 0.0051\n",
            "Validation Loss: 0.0051\n",
            "Epoch [29/50], Loss: 0.0050\n",
            "Validation Loss: 0.0050\n",
            "Epoch [30/50], Loss: 0.0050\n",
            "Validation Loss: 0.0050\n",
            "Epoch [31/50], Loss: 0.0049\n",
            "Validation Loss: 0.0049\n",
            "Epoch [32/50], Loss: 0.0049\n",
            "Validation Loss: 0.0049\n",
            "Epoch [33/50], Loss: 0.0048\n",
            "Validation Loss: 0.0049\n",
            "Epoch [34/50], Loss: 0.0048\n",
            "Validation Loss: 0.0048\n",
            "Epoch [35/50], Loss: 0.0048\n",
            "Validation Loss: 0.0048\n",
            "Epoch [36/50], Loss: 0.0048\n",
            "Validation Loss: 0.0048\n",
            "Epoch [37/50], Loss: 0.0047\n",
            "Validation Loss: 0.0048\n",
            "Epoch [38/50], Loss: 0.0047\n",
            "Validation Loss: 0.0048\n",
            "Epoch [39/50], Loss: 0.0047\n",
            "Validation Loss: 0.0047\n",
            "Epoch [40/50], Loss: 0.0047\n",
            "Validation Loss: 0.0047\n",
            "Epoch [41/50], Loss: 0.0047\n",
            "Validation Loss: 0.0047\n",
            "Epoch [42/50], Loss: 0.0047\n",
            "Validation Loss: 0.0047\n",
            "Epoch [43/50], Loss: 0.0046\n",
            "Validation Loss: 0.0047\n",
            "Epoch [44/50], Loss: 0.0046\n",
            "Validation Loss: 0.0047\n",
            "Epoch [45/50], Loss: 0.0046\n",
            "Validation Loss: 0.0046\n",
            "Epoch [46/50], Loss: 0.0046\n",
            "Validation Loss: 0.0046\n",
            "Epoch [47/50], Loss: 0.0046\n",
            "Validation Loss: 0.0046\n",
            "Epoch [48/50], Loss: 0.0046\n",
            "Validation Loss: 0.0046\n",
            "Epoch [49/50], Loss: 0.0046\n",
            "Validation Loss: 0.0046\n",
            "Epoch [50/50], Loss: 0.0046\n",
            "Validation Loss: 0.0046\n"
          ]
        }
      ],
      "source": [
        "import torch\n",
        "import torch.nn as nn\n",
        "import torch.optim as optim\n",
        "from torch.utils.data import DataLoader, TensorDataset\n",
        "\n",
        "# Assuming the device is already defined\n",
        "device = torch.device(\"cuda\" if torch.cuda.is_available() else \"cpu\")\n",
        "\n",
        "channels = 8\n",
        "height = 125\n",
        "width = 125\n",
        "\n",
        "autoencoder = Transformer(\n",
        "    in_channels=channels,\n",
        "    num_encoder_layers=2,\n",
        "    num_decoder_layers=2,\n",
        "    num_features=height,\n",
        "    hidden_size=64,\n",
        "    num_heads=4,\n",
        "    max_seq_len=height,\n",
        "    device=device\n",
        ").to(device)\n",
        "\n",
        "criterion = nn.BCELoss()\n",
        "optimizer = optim.Adam(autoencoder.parameters(), lr=0.0001)\n",
        "\n",
        "num_epochs = 50\n",
        "autoencoder.train()\n",
        "\n",
        "for epoch in range(num_epochs):\n",
        "    epoch_loss = 0\n",
        "    for batch_idx, (data, _) in enumerate(train_loader):\n",
        "        data = data.to(device)\n",
        "        optimizer.zero_grad()\n",
        "        output = autoencoder(data)\n",
        "        output = torch.sigmoid(output)\n",
        "        loss = criterion(output, data)\n",
        "        loss.backward()\n",
        "        optimizer.step()\n",
        "        epoch_loss += loss.item()\n",
        "\n",
        "    average_epoch_loss = epoch_loss / len(train_loader)\n",
        "    print(f'Epoch [{epoch+1}/{num_epochs}], Loss: {average_epoch_loss:.4f}')\n",
        "\n",
        "    # Validate\n",
        "    autoencoder.eval()\n",
        "    val_loss = 0\n",
        "    with torch.no_grad():\n",
        "        for batch_idx, (val_data, _) in enumerate(val_loader):\n",
        "            val_data = val_data.to(device)\n",
        "            val_output = autoencoder(val_data)\n",
        "            val_output = torch.sigmoid(val_output)\n",
        "            loss = criterion(val_output, val_data)\n",
        "            val_loss += loss.item()\n",
        "    average_val_loss = val_loss / len(val_loader)\n",
        "    print(f'Validation Loss: {average_val_loss:.4f}')\n",
        "    autoencoder.train()\n",
        "\n",
        "torch.save(autoencoder.state_dict(), 'pretrained_transformer.pth')\n"
      ]
    },
    {
      "cell_type": "markdown",
      "id": "0a9ee123",
      "metadata": {
        "papermill": {
          "duration": 0.079822,
          "end_time": "2024-07-17T21:11:00.472226",
          "exception": false,
          "start_time": "2024-07-17T21:11:00.392404",
          "status": "completed"
        },
        "tags": [],
        "id": "0a9ee123"
      },
      "source": [
        "# Linear Probe"
      ]
    },
    {
      "cell_type": "code",
      "execution_count": null,
      "id": "4bda20f8",
      "metadata": {
        "execution": {
          "iopub.execute_input": "2024-07-17T21:11:00.623195Z",
          "iopub.status.busy": "2024-07-17T21:11:00.622697Z",
          "iopub.status.idle": "2024-07-17T21:11:23.756971Z",
          "shell.execute_reply": "2024-07-17T21:11:23.756054Z"
        },
        "papermill": {
          "duration": 23.210944,
          "end_time": "2024-07-17T21:11:23.759692",
          "exception": false,
          "start_time": "2024-07-17T21:11:00.548748",
          "status": "completed"
        },
        "tags": [],
        "id": "4bda20f8",
        "outputId": "8e9e5584-98d2-4d2a-c6eb-debefe7a7b0c"
      },
      "outputs": [
        {
          "name": "stderr",
          "output_type": "stream",
          "text": [
            "Epoch 1/10: 100%|██████████| 57/57 [00:02<00:00, 26.23it/s]\n"
          ]
        },
        {
          "name": "stdout",
          "output_type": "stream",
          "text": [
            "\n",
            "Epoch 1/10\n",
            "Train Loss: 0.5256, Train Accuracy: 73.56%\n",
            "Val Loss: 8.7163, Val Accuracy: 45.00%\n"
          ]
        },
        {
          "name": "stderr",
          "output_type": "stream",
          "text": [
            "Epoch 2/10: 100%|██████████| 57/57 [00:02<00:00, 27.62it/s]\n"
          ]
        },
        {
          "name": "stdout",
          "output_type": "stream",
          "text": [
            "\n",
            "Epoch 2/10\n",
            "Train Loss: 0.4787, Train Accuracy: 77.89%\n",
            "Val Loss: 4.4260, Val Accuracy: 45.00%\n"
          ]
        },
        {
          "name": "stderr",
          "output_type": "stream",
          "text": [
            "Epoch 3/10: 100%|██████████| 57/57 [00:02<00:00, 28.21it/s]\n"
          ]
        },
        {
          "name": "stdout",
          "output_type": "stream",
          "text": [
            "\n",
            "Epoch 3/10\n",
            "Train Loss: 0.4603, Train Accuracy: 79.44%\n",
            "Val Loss: 2.0880, Val Accuracy: 45.00%\n"
          ]
        },
        {
          "name": "stderr",
          "output_type": "stream",
          "text": [
            "Epoch 4/10: 100%|██████████| 57/57 [00:01<00:00, 29.22it/s]\n"
          ]
        },
        {
          "name": "stdout",
          "output_type": "stream",
          "text": [
            "\n",
            "Epoch 4/10\n",
            "Train Loss: 0.4457, Train Accuracy: 80.50%\n",
            "Val Loss: 0.9957, Val Accuracy: 52.00%\n"
          ]
        },
        {
          "name": "stderr",
          "output_type": "stream",
          "text": [
            "Epoch 5/10: 100%|██████████| 57/57 [00:01<00:00, 28.94it/s]\n"
          ]
        },
        {
          "name": "stdout",
          "output_type": "stream",
          "text": [
            "\n",
            "Epoch 5/10\n",
            "Train Loss: 0.4425, Train Accuracy: 80.06%\n",
            "Val Loss: 0.6702, Val Accuracy: 64.00%\n"
          ]
        },
        {
          "name": "stderr",
          "output_type": "stream",
          "text": [
            "Epoch 6/10: 100%|██████████| 57/57 [00:02<00:00, 27.98it/s]\n"
          ]
        },
        {
          "name": "stdout",
          "output_type": "stream",
          "text": [
            "\n",
            "Epoch 6/10\n",
            "Train Loss: 0.4324, Train Accuracy: 80.67%\n",
            "Val Loss: 0.5644, Val Accuracy: 70.50%\n"
          ]
        },
        {
          "name": "stderr",
          "output_type": "stream",
          "text": [
            "Epoch 7/10: 100%|██████████| 57/57 [00:01<00:00, 29.32it/s]\n"
          ]
        },
        {
          "name": "stdout",
          "output_type": "stream",
          "text": [
            "\n",
            "Epoch 7/10\n",
            "Train Loss: 0.4222, Train Accuracy: 81.39%\n",
            "Val Loss: 0.4970, Val Accuracy: 73.50%\n"
          ]
        },
        {
          "name": "stderr",
          "output_type": "stream",
          "text": [
            "Epoch 8/10: 100%|██████████| 57/57 [00:02<00:00, 28.36it/s]\n"
          ]
        },
        {
          "name": "stdout",
          "output_type": "stream",
          "text": [
            "\n",
            "Epoch 8/10\n",
            "Train Loss: 0.4288, Train Accuracy: 81.06%\n",
            "Val Loss: 0.4578, Val Accuracy: 77.00%\n"
          ]
        },
        {
          "name": "stderr",
          "output_type": "stream",
          "text": [
            "Epoch 9/10: 100%|██████████| 57/57 [00:01<00:00, 29.23it/s]\n"
          ]
        },
        {
          "name": "stdout",
          "output_type": "stream",
          "text": [
            "\n",
            "Epoch 9/10\n",
            "Train Loss: 0.4278, Train Accuracy: 80.94%\n",
            "Val Loss: 0.4585, Val Accuracy: 79.00%\n"
          ]
        },
        {
          "name": "stderr",
          "output_type": "stream",
          "text": [
            "Epoch 10/10: 100%|██████████| 57/57 [00:02<00:00, 28.16it/s]\n"
          ]
        },
        {
          "name": "stdout",
          "output_type": "stream",
          "text": [
            "\n",
            "Epoch 10/10\n",
            "Train Loss: 0.4275, Train Accuracy: 80.83%\n",
            "Val Loss: 0.4442, Val Accuracy: 78.50%\n"
          ]
        },
        {
          "data": {
            "image/png": "[encoded data removed]",
            "text/plain": [
              "<Figure size 1200x500 with 2 Axes>"
            ]
          },
          "metadata": {},
          "output_type": "display_data"
        }
      ],
      "source": [
        "from tqdm import tqdm\n",
        "import matplotlib.pyplot as plt\n",
        "\n",
        "channels = 8\n",
        "height = 125\n",
        "width = 125\n",
        "\n",
        "device = torch.device(\"cuda\" if torch.cuda.is_available() else \"cpu\")\n",
        "\n",
        "pretrained_autoencoder = Transformer(\n",
        "    in_channels=channels,\n",
        "    num_encoder_layers=2,\n",
        "    num_decoder_layers=2,\n",
        "    num_features=height,\n",
        "    hidden_size=64,\n",
        "    num_heads=4,\n",
        "    max_seq_len=height,\n",
        "    device=device\n",
        ").to(device)\n",
        "\n",
        "# Load the pretrained weights\n",
        "pretrained_autoencoder.load_state_dict(torch.load('pretrained_transformer.pth'))\n",
        "\n",
        "pretrained_encoders = nn.ModuleList([encoder for encoder in pretrained_autoencoder.encoders])\n",
        "\n",
        "# Define the LinearProbe model\n",
        "class LinearProbe(nn.Module):\n",
        "    def __init__(self, in_channels, pretrained_encoders, hidden_dim, num_classes):\n",
        "        super().__init__()\n",
        "        self.pretrained_encoders = pretrained_encoders\n",
        "        self.in_channels = in_channels\n",
        "        self.hidden_dim = hidden_dim\n",
        "\n",
        "        # Freeze the encoder parameters\n",
        "        for encoder in self.pretrained_encoders:\n",
        "            for param in encoder.parameters():\n",
        "                param.requires_grad = False\n",
        "\n",
        "        self.flatten_dim = hidden_dim * in_channels\n",
        "        self.batchnorm = nn.BatchNorm1d(self.flatten_dim, momentum=0.01)\n",
        "        self.dropout = nn.Dropout(0.1)\n",
        "        self.linear = nn.Linear(self.flatten_dim, num_classes)\n",
        "\n",
        "    def forward(self, x):\n",
        "        channels = x.chunk(self.in_channels, dim=1)\n",
        "        outputs = []\n",
        "        for enc, channel in zip(self.pretrained_encoders, channels):\n",
        "            channel = channel.squeeze(1)\n",
        "            enc_output = enc(channel)\n",
        "            summed_output = enc_output.sum(dim=1)  # Summing over the sequence length dimension\n",
        "            outputs.append(summed_output)\n",
        "\n",
        "        x = torch.cat(outputs, dim=1)  # Concatenate along the channel dimension\n",
        "        x = self.batchnorm(x)\n",
        "        x = self.dropout(x)\n",
        "        return self.linear(x)\n",
        "\n",
        "def train_linear_probe(model, train_loader, val_loader, criterion, optimizer, num_epochs, device):\n",
        "    scheduler = optim.lr_scheduler.ReduceLROnPlateau(optimizer, 'min', patience=3, factor=0.1)\n",
        "\n",
        "    train_losses, val_losses = [], []\n",
        "    train_accuracies, val_accuracies = [], []\n",
        "\n",
        "    for epoch in range(num_epochs):\n",
        "        model.train()\n",
        "        train_loss = 0.0\n",
        "        train_correct = 0\n",
        "        train_total = 0\n",
        "\n",
        "        progress_bar = tqdm(train_loader, desc=f\"Epoch {epoch+1}/{num_epochs}\")\n",
        "        for data, labels in progress_bar:\n",
        "            data, labels = data.to(device), labels.float().to(device)\n",
        "            labels = labels.unsqueeze(1) if len(labels.shape) == 1 else labels\n",
        "\n",
        "            optimizer.zero_grad()\n",
        "            outputs = model(data)\n",
        "            loss = criterion(outputs, labels)\n",
        "            loss.backward()\n",
        "            optimizer.step()\n",
        "\n",
        "            train_loss += loss.item() * data.size(0)\n",
        "            predicted = (torch.sigmoid(outputs) > 0.5).float()\n",
        "            train_correct += (predicted == labels).sum().item()\n",
        "            train_total += labels.size(0)\n",
        "\n",
        "        train_loss /= len(train_loader.dataset)\n",
        "        train_accuracy = 100. * train_correct / train_total\n",
        "        train_losses.append(train_loss)\n",
        "        train_accuracies.append(train_accuracy)\n",
        "\n",
        "        # Validation\n",
        "        model.eval()\n",
        "        val_loss = 0.0\n",
        "        val_correct = 0\n",
        "        val_total = 0\n",
        "        with torch.no_grad():\n",
        "            for data, labels in val_loader:\n",
        "                data, labels = data.to(device), labels.float().to(device)\n",
        "                labels = labels.unsqueeze(1) if len(labels.shape) == 1 else labels\n",
        "\n",
        "                outputs = model(data)\n",
        "                loss = criterion(outputs, labels)\n",
        "\n",
        "                val_loss += loss.item() * data.size(0)\n",
        "                predicted = (torch.sigmoid(outputs) > 0.5).float()\n",
        "                val_correct += (predicted == labels).sum().item()\n",
        "                val_total += labels.size(0)\n",
        "\n",
        "        val_loss /= len(val_loader.dataset)\n",
        "        val_accuracy = 100. * val_correct / val_total\n",
        "        val_losses.append(val_loss)\n",
        "        val_accuracies.append(val_accuracy)\n",
        "\n",
        "        print(f\"\\nEpoch {epoch+1}/{num_epochs}\")\n",
        "        print(f\"Train Loss: {train_loss:.4f}, Train Accuracy: {train_accuracy:.2f}%\")\n",
        "        print(f\"Val Loss: {val_loss:.4f}, Val Accuracy: {val_accuracy:.2f}%\")\n",
        "\n",
        "        scheduler.step(val_loss)\n",
        "\n",
        "    return train_losses, val_losses, train_accuracies, val_accuracies\n",
        "\n",
        "if __name__ == \"__main__\":\n",
        "    num_classes = 1\n",
        "\n",
        "    linear_probe = LinearProbe(channels, pretrained_encoders, hidden_dim=64, num_classes=num_classes).to(device)\n",
        "\n",
        "    criterion = nn.BCEWithLogitsLoss()\n",
        "    optimizer = optim.Adam(linear_probe.parameters(), lr=0.001)\n",
        "\n",
        "    num_epochs = 10\n",
        "    train_losses, val_losses, train_accuracies, val_accuracies = train_linear_probe(linear_probe, test_labeled_loader, test_val_loader, criterion, optimizer, num_epochs, device)\n",
        "\n",
        "    # Plot the learning curves\n",
        "    epochs = range(1, num_epochs + 1)\n",
        "\n",
        "    plt.figure(figsize=(12, 5))\n",
        "\n",
        "    # Plot Loss\n",
        "    plt.subplot(1, 2, 1)\n",
        "    plt.plot(epochs, train_losses, 'b', label='Training loss')\n",
        "    plt.plot(epochs, val_losses, 'r', label='Validation loss')\n",
        "    plt.title('Training and Validation Loss')\n",
        "    plt.xlabel('Epochs')\n",
        "    plt.ylabel('Loss')\n",
        "    plt.legend()\n",
        "\n",
        "    # Plot Accuracy\n",
        "    plt.subplot(1, 2, 2)\n",
        "    plt.plot(epochs, train_accuracies, 'b', label='Training accuracy')\n",
        "    plt.plot(epochs, val_accuracies, 'r', label='Validation accuracy')\n",
        "    plt.title('Training and Validation Accuracy')\n",
        "    plt.xlabel('Epochs')\n",
        "    plt.ylabel('Accuracy')\n",
        "    plt.legend()\n",
        "\n",
        "    plt.show()\n"
      ]
    },
    {
      "cell_type": "code",
      "execution_count": null,
      "id": "442046df",
      "metadata": {
        "papermill": {
          "duration": 0.094998,
          "end_time": "2024-07-17T21:11:23.944159",
          "exception": false,
          "start_time": "2024-07-17T21:11:23.849161",
          "status": "completed"
        },
        "tags": [],
        "id": "442046df"
      },
      "outputs": [],
      "source": []
    }
  ],
  "metadata": {
    "kaggle": {
      "accelerator": "nvidiaTeslaT4",
      "dataSources": [],
      "dockerImageVersionId": 30733,
      "isGpuEnabled": true,
      "isInternetEnabled": true,
      "language": "python",
      "sourceType": "notebook"
    },
    "kernelspec": {
      "display_name": "Python 3",
      "language": "python",
      "name": "python3"
    },
    "language_info": {
      "codemirror_mode": {
        "name": "ipython",
        "version": 3
      },
      "file_extension": ".py",
      "mimetype": "text/x-python",
      "name": "python",
      "nbconvert_exporter": "python",
      "pygments_lexer": "ipython3",
      "version": "3.10.13"
    },
    "papermill": {
      "default_parameters": {},
      "duration": 2479.738097,
      "end_time": "2024-07-17T21:11:25.366747",
      "environment_variables": {},
      "exception": null,
      "input_path": "__notebook__.ipynb",
      "output_path": "__notebook__.ipynb",
      "parameters": {},
      "start_time": "2024-07-17T20:30:05.628650",
      "version": "2.5.0"
    },
    "colab": {
      "provenance": [],
      "include_colab_link": true
    }
  },
  "nbformat": 4,
  "nbformat_minor": 5
}