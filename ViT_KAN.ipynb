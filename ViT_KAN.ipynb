{
  "metadata": {
    "kernelspec": {
      "language": "python",
      "display_name": "Python 3",
      "name": "python3"
    },
    "language_info": {
      "name": "python",
      "version": "3.10.13",
      "mimetype": "text/x-python",
      "codemirror_mode": {
        "name": "ipython",
        "version": 3
      },
      "pygments_lexer": "ipython3",
      "nbconvert_exporter": "python",
      "file_extension": ".py"
    },
    "kaggle": {
      "accelerator": "nvidiaTeslaT4",
      "dataSources": [],
      "dockerImageVersionId": 30747,
      "isInternetEnabled": true,
      "language": "python",
      "sourceType": "notebook",
      "isGpuEnabled": true
    },
    "colab": {
      "provenance": [],
      "include_colab_link": true
    }
  },
  "nbformat_minor": 0,
  "nbformat": 4,
  "cells": [
    {
      "cell_type": "markdown",
      "metadata": {
        "id": "view-in-github",
        "colab_type": "text"
      },
      "source": [
        "<a href=\"https://colab.research.google.com/github/sidhu2690/E2E-SSL/blob/main/ViT_KAN.ipynb\" target=\"_parent\"><img src=\"https://colab.research.google.com/assets/colab-badge.svg\" alt=\"Open In Colab\"/></a>"
      ]
    },
    {
      "cell_type": "code",
      "source": [
        "import torch\n",
        "import torch.nn.functional as F\n",
        "import torch.nn as nn\n",
        "import torch.optim as optim\n",
        "\n",
        "class ChebyshevKANLayer(torch.nn.Module):\n",
        "    def __init__(self, input_dim, output_dim, degree, device):\n",
        "        super(ChebyshevKANLayer, self).__init__()\n",
        "        self.inputdim = input_dim\n",
        "        self.outdim = output_dim\n",
        "        self.degree = degree\n",
        "        self.device = device\n",
        "\n",
        "        self.cheby_coeffs = torch.nn.Parameter(torch.empty(input_dim, output_dim, degree + 1).to(device))\n",
        "        torch.nn.init.xavier_normal_(self.cheby_coeffs)\n",
        "        self.register_buffer(\"arange\", torch.arange(0, degree + 1, 1).to(device))\n",
        "\n",
        "    def chebyshev_polynomials(self, x):\n",
        "        T = [torch.ones_like(x).to(self.device), 2 * x]\n",
        "        for n in range(2, self.degree + 1):\n",
        "            T.append(2 * x * T[n - 1] - T[n - 2])\n",
        "        return torch.stack(T, dim=-1)\n",
        "\n",
        "    def forward(self, x):\n",
        "        batch_size, seq_length, input_dim = x.size()\n",
        "        x = x.view(-1, self.inputdim)\n",
        "        x = torch.tanh(x)\n",
        "        T = self.chebyshev_polynomials(x)\n",
        "        y = torch.einsum(\"bij,ioj->bo\", T, self.cheby_coeffs)\n",
        "        y = y.view(batch_size, seq_length, self.outdim)\n",
        "        return y\n",
        "\n",
        "class MultiheadKANAttention(torch.nn.Module):\n",
        "    def __init__(self, hidden_size, num_heads, rotation_matrix, degree=3, device='cpu'):\n",
        "        super().__init__()\n",
        "        self.hidden_size = hidden_size\n",
        "        self.num_heads = num_heads\n",
        "        self.head_dim = hidden_size // num_heads\n",
        "        self.position_emb = rotation_matrix.to(device)\n",
        "        self.device = device\n",
        "\n",
        "        self.q_linear = ChebyshevKANLayer(hidden_size, hidden_size, degree, device)\n",
        "        self.kv_linear = ChebyshevKANLayer(hidden_size, hidden_size * 2, degree, device)\n",
        "        self.out = torch.nn.Linear(hidden_size, hidden_size).to(device)\n",
        "\n",
        "    def forward(self, x, memory=None):\n",
        "        batch_size, seq_length, _ = x.size()\n",
        "        if memory is None:\n",
        "            q = self.q_linear(x)\n",
        "            kv = self.kv_linear(x)\n",
        "            q = q.reshape(batch_size, seq_length, self.num_heads, self.head_dim)\n",
        "            kv = kv.reshape(batch_size, -1, self.num_heads, 2 * self.head_dim)\n",
        "            queries = q.transpose(1, 2)\n",
        "            kv = kv.transpose(1, 2)\n",
        "            keys, values = kv.chunk(2, dim=-1)\n",
        "        else:\n",
        "            q = self.q_linear(x)\n",
        "            kv = self.kv_linear(memory)\n",
        "            q = q.reshape(batch_size, seq_length, self.num_heads, self.head_dim)\n",
        "            kv = kv.reshape(batch_size, -1, self.num_heads, 2 * self.head_dim)\n",
        "            queries = q.transpose(1, 2)\n",
        "            kv = kv.transpose(1, 2)\n",
        "            keys, values = kv.chunk(2, dim=-1)\n",
        "\n",
        "        queries = apply_rotary_pos_emb(queries, self.position_emb)\n",
        "        keys = apply_rotary_pos_emb(keys, self.position_emb)\n",
        "\n",
        "        scores = torch.matmul(queries, keys.transpose(2, 3))\n",
        "        scores = scores / (self.head_dim ** 0.5)\n",
        "        attention = F.softmax(scores, dim=-1)\n",
        "        context = torch.matmul(attention, values)\n",
        "        context = context.transpose(1, 2).contiguous()\n",
        "        context = context.reshape(batch_size, seq_length, self.hidden_size)\n",
        "        output = self.out(context)\n",
        "\n",
        "        return output\n",
        "\n",
        "class TransformerEncoderLayer(torch.nn.Module):\n",
        "    def __init__(self, hidden_size, num_heads, rotation_matrix, degree=3, device='cpu'):\n",
        "        super().__init__()\n",
        "        self.norm1 = RMSNorm(hidden_size, device=device)\n",
        "        self.attention = MultiheadKANAttention(hidden_size, num_heads, rotation_matrix, degree, device)\n",
        "        self.norm2 = RMSNorm(hidden_size, device=device)\n",
        "        self.ff = ChebyshevKANLayer(hidden_size, hidden_size, degree, device)\n",
        "\n",
        "    def forward(self, x):\n",
        "        x1 = self.attention(self.norm1(x))\n",
        "        x = x + x1\n",
        "        x2 = self.ff(self.norm2(x))\n",
        "        x = x + x2\n",
        "        return x\n",
        "\n",
        "class TransformerDecoderLayer(torch.nn.Module):\n",
        "    def __init__(self, hidden_size, num_heads, rotation_matrix, degree=3, device='cpu'):\n",
        "        super().__init__()\n",
        "        self.norm1 = RMSNorm(hidden_size, device=device)\n",
        "        self.self_attention = MultiheadKANAttention(hidden_size, num_heads, rotation_matrix, degree, device)\n",
        "        self.norm2 = RMSNorm(hidden_size, device=device)\n",
        "        self.cross_attention = MultiheadKANAttention(hidden_size, num_heads, rotation_matrix, degree, device)\n",
        "        self.norm3 = RMSNorm(hidden_size, device=device)\n",
        "        self.ff = ChebyshevKANLayer(hidden_size, hidden_size, degree, device)\n",
        "\n",
        "    def forward(self, x, enc_output):\n",
        "        x1 = self.self_attention(self.norm1(x))\n",
        "        x = x + x1\n",
        "        x2 = self.cross_attention(self.norm2(x), enc_output)\n",
        "        x = x + x2\n",
        "        x3 = self.ff(self.norm3(x))\n",
        "        x = x + x3\n",
        "        return x\n",
        "\n",
        "class RMSNorm(torch.nn.Module):\n",
        "    def __init__(self, hidden_size: int, eps: float = 1e-6, device='cpu'):\n",
        "        super().__init__()\n",
        "        self.eps = eps\n",
        "        self.weight = torch.nn.Parameter(torch.ones(hidden_size).to(device))\n",
        "\n",
        "    def _norm(self, x):\n",
        "        return x * torch.rsqrt(x.pow(2).mean(-1, keepdim=True) + self.eps)\n",
        "\n",
        "    def forward(self, x):\n",
        "        output = self._norm(x.float()).type_as(x)\n",
        "        return output * self.weight\n",
        "\n",
        "class RotaryPositionalEmbedding(torch.nn.Module):\n",
        "    def __init__(self, dim, max_seq_len, device='cpu'):\n",
        "        super(RotaryPositionalEmbedding, self).__init__()\n",
        "        self.dim = dim\n",
        "        self.max_seq_len = max_seq_len\n",
        "        inv_freq = 1.0 / (1000 ** (torch.arange(0, dim, 2).float() / dim))\n",
        "        self.register_buffer('inv_freq', inv_freq.to(device))\n",
        "        self.register_buffer('pos_enc', self._generate_positional_encoding(max_seq_len, device))\n",
        "\n",
        "    def _generate_positional_encoding(self, seq_len, device):\n",
        "        t = torch.arange(seq_len, device=device, dtype=self.inv_freq.dtype)\n",
        "        freqs = torch.einsum('i,j->ij', t, self.inv_freq)\n",
        "        pos_enc = torch.cat((freqs.sin(), freqs.cos()), dim=-1)\n",
        "        return pos_enc\n",
        "\n",
        "    def forward(self, seq_len):\n",
        "        return self.pos_enc[:seq_len, :]\n",
        "\n",
        "def apply_rotary_pos_emb(x, pos_emb):\n",
        "    x_cos, x_sin = torch.split(pos_emb, x.shape[-1] // 2, dim=-1)\n",
        "    x1_rot = (x[..., ::2] * x_cos) + (rotate_half(x[..., 1::2]) * x_sin)\n",
        "    x2_rot = (x[..., 1::2] * x_cos) + (rotate_half(x[..., ::2]) * x_sin)\n",
        "    x_rot = torch.cat([x1_rot, x2_rot], dim=-1)\n",
        "    return x_rot\n",
        "\n",
        "def rotate_half(x):\n",
        "    x1, x2 = torch.chunk(x, 2, dim=-1)\n",
        "    return torch.cat((-x2, x1), dim=-1)\n",
        "\n",
        "class TransformerEncoder(torch.nn.Module):\n",
        "    def __init__(self, num_layers, num_features, hidden_size, num_heads, max_seq_len, degree=3, device='cpu'):\n",
        "        super().__init__()\n",
        "        self.embedding = torch.nn.Linear(num_features, hidden_size).to(device)\n",
        "        head_dim = hidden_size // num_heads\n",
        "        rope = RotaryPositionalEmbedding(head_dim, max_seq_len, device)\n",
        "        self.rotation_matrix = rope(max_seq_len)\n",
        "        self.layers = torch.nn.ModuleList([\n",
        "            TransformerEncoderLayer(hidden_size, num_heads, self.rotation_matrix, degree, device)\n",
        "            for _ in range(num_layers)\n",
        "        ])\n",
        "\n",
        "    def forward(self, x):\n",
        "        x = self.embedding(x)\n",
        "        for layer in self.layers:\n",
        "            x = layer(x)\n",
        "        return x\n",
        "\n",
        "class TransformerDecoder(torch.nn.Module):\n",
        "    def __init__(self, num_layers, num_features, hidden_size, num_heads, max_seq_len, degree=3, device='cpu'):\n",
        "        super().__init__()\n",
        "        self.embedding = torch.nn.Linear(num_features, hidden_size).to(device)\n",
        "        head_dim = hidden_size // num_heads\n",
        "        rope = RotaryPositionalEmbedding(head_dim, max_seq_len, device)\n",
        "        self.rotation_matrix = rope(max_seq_len)\n",
        "        self.layers = torch.nn.ModuleList([\n",
        "            TransformerDecoderLayer(hidden_size, num_heads, self.rotation_matrix, degree, device)\n",
        "            for _ in range(num_layers)\n",
        "        ])\n",
        "\n",
        "    def forward(self, x, enc_output):\n",
        "        x = self.embedding(x)\n",
        "        for layer in self.layers:\n",
        "            x = layer(x, enc_output)\n",
        "        return x\n",
        "\n",
        "class Transformer(torch.nn.Module):\n",
        "    def __init__(self, in_channels, num_encoder_layers, num_decoder_layers, num_features, hidden_size, num_heads, max_seq_len, degree=3, device='cpu'):\n",
        "        super().__init__()\n",
        "        self.encoders = torch.nn.ModuleList()\n",
        "        self.decoders = torch.nn.ModuleList()\n",
        "        for _ in range(in_channels):\n",
        "            self.encoders.append(TransformerEncoder(num_encoder_layers, num_features, hidden_size, num_heads, max_seq_len, degree, device))\n",
        "            self.decoders.append(TransformerDecoder(num_decoder_layers, num_features, hidden_size, num_heads, max_seq_len, degree, device))\n",
        "        self.output_layer = torch.nn.Linear(hidden_size, num_features).to(device)\n",
        "        self.in_channels = in_channels\n",
        "        self.device = device\n",
        "\n",
        "    def forward(self, src):\n",
        "        channels = src.chunk(self.in_channels, dim=1)\n",
        "        outputs = []\n",
        "        for enc, dec, channel in zip(self.encoders, self.decoders, channels):\n",
        "            channel = channel.squeeze(1)\n",
        "            enc_output = enc(channel)\n",
        "            dec_output = dec(channel, enc_output)\n",
        "            outputs.append(self.output_layer(dec_output))\n",
        "        return torch.stack(outputs, dim=1)\n",
        ""
      ],
      "metadata": {
        "_uuid": "8f2839f25d086af736a60e9eeb907d3b93b6e0e5",
        "_cell_guid": "b1076dfc-b9ad-4769-8c92-a6c4dae69d19",
        "execution": {
          "iopub.status.busy": "2024-08-20T08:57:40.046437Z",
          "iopub.execute_input": "2024-08-20T08:57:40.046770Z",
          "iopub.status.idle": "2024-08-20T08:57:43.825967Z",
          "shell.execute_reply.started": "2024-08-20T08:57:40.046735Z",
          "shell.execute_reply": "2024-08-20T08:57:43.824881Z"
        },
        "trusted": true,
        "id": "O5ni5YBo79Ki"
      },
      "execution_count": null,
      "outputs": []
    },
    {
      "cell_type": "code",
      "source": [
        "!wget https://cernbox.cern.ch/remote.php/dav/public-files/e3pqxcIznqdYyRv/Dataset_Specific_labelled.h5"
      ],
      "metadata": {
        "execution": {
          "iopub.status.busy": "2024-08-20T08:57:43.828236Z",
          "iopub.execute_input": "2024-08-20T08:57:43.829079Z",
          "iopub.status.idle": "2024-08-20T09:04:13.041902Z",
          "shell.execute_reply.started": "2024-08-20T08:57:43.829044Z",
          "shell.execute_reply": "2024-08-20T09:04:13.040911Z"
        },
        "trusted": true,
        "id": "o-s1otQm79Ku",
        "outputId": "9327d8cf-9dea-42b3-f8d2-0f4b99b8666d"
      },
      "execution_count": null,
      "outputs": [
        {
          "name": "stdout",
          "text": "--2024-08-20 08:57:44--  https://cernbox.cern.ch/remote.php/dav/public-files/e3pqxcIznqdYyRv/Dataset_Specific_labelled.h5\nResolving cernbox.cern.ch (cernbox.cern.ch)... 137.138.120.151, 128.142.53.28, 128.142.53.35, ...\nConnecting to cernbox.cern.ch (cernbox.cern.ch)|137.138.120.151|:443... connected.\nHTTP request sent, awaiting response... 200 OK\nLength: 5000042048 (4.7G) [application/octet-stream]\nSaving to: 'Dataset_Specific_labelled.h5'\n\nDataset_Specific_la 100%[===================>]   4.66G  16.0MB/s    in 5m 55s  \n\n2024-08-20 09:04:12 (13.4 MB/s) - 'Dataset_Specific_labelled.h5' saved [5000042048/5000042048]\n\n",
          "output_type": "stream"
        }
      ]
    },
    {
      "cell_type": "code",
      "source": [
        "from torch.utils.data import Dataset, DataLoader, random_split\n",
        "import h5py as h5\n",
        "\n",
        "class MyDataset(Dataset):\n",
        "    def __init__(self, h5_path, transform=None):\n",
        "        f = h5.File(h5_path, 'r')\n",
        "        self.jet = f['jet']\n",
        "        self.Y = f['Y']\n",
        "        self.transform = transform\n",
        "\n",
        "    def __len__(self):\n",
        "        return len(self.Y)\n",
        "\n",
        "    def __getitem__(self, idx):\n",
        "        data = torch.from_numpy(self.jet[idx]).moveaxis(2, 0) / 255\n",
        "        label = torch.from_numpy(self.Y[idx])\n",
        "        return data, label\n",
        "\n",
        "class UnlabeledDataset(Dataset):\n",
        "    def __init__(self, labeled_dataset):\n",
        "        self.labeled_dataset = labeled_dataset\n",
        "\n",
        "    def __len__(self):\n",
        "        return len(self.labeled_dataset)\n",
        "\n",
        "    def __getitem__(self, idx):\n",
        "        data, _ = self.labeled_dataset[idx]\n",
        "        return data, data\n",
        "\n",
        "device = torch.device(\"cuda\" if torch.cuda.is_available() else \"cpu\")\n",
        "dset = MyDataset('/kaggle/working/Dataset_Specific_labelled.h5')\n",
        "\n",
        "train_val_size = int(0.8 * len(dset))\n",
        "test_size = len(dset) - train_val_size\n",
        "train_val_dataset, test_dataset = random_split(dset, [train_val_size, test_size])\n",
        "\n",
        "train_size = int(0.9 * train_val_size)\n",
        "val_size = train_val_size - train_size\n",
        "train_dataset, val_dataset = random_split(train_val_dataset, [train_size, val_size])\n",
        "\n",
        "test_val_size = int(0.1 * len(test_dataset))\n",
        "test_actual_size = len(test_dataset) - test_val_size\n",
        "test_val_dataset, test_actual_dataset = random_split(test_dataset, [test_val_size, test_actual_size])\n",
        "\n",
        "train_unlabeled_dataset = UnlabeledDataset(train_dataset)\n",
        "val_unlabeled_dataset = UnlabeledDataset(val_dataset)\n",
        "\n",
        "train_loader = DataLoader(train_unlabeled_dataset, batch_size=32, shuffle=True)\n",
        "val_loader = DataLoader(val_unlabeled_dataset, batch_size=32, shuffle=False)\n",
        "\n",
        "test_labeled_loader = DataLoader(test_actual_dataset, batch_size=32, shuffle=True)\n",
        "test_val_loader = DataLoader(test_val_dataset, batch_size=32, shuffle=False)\n",
        "\n",
        "print(f'Total dataset size: {len(dset)}')\n",
        "print(f'Training dataset size: {len(train_dataset)}')\n",
        "print(f'Validation dataset size: {len(val_dataset)}')\n",
        "print(f'Test dataset size: {len(test_actual_dataset)}')\n",
        "print(f'Test validation dataset size: {len(test_val_dataset)}')"
      ],
      "metadata": {
        "execution": {
          "iopub.status.busy": "2024-08-20T09:04:13.043320Z",
          "iopub.execute_input": "2024-08-20T09:04:13.043668Z",
          "iopub.status.idle": "2024-08-20T09:04:13.375859Z",
          "shell.execute_reply.started": "2024-08-20T09:04:13.043639Z",
          "shell.execute_reply": "2024-08-20T09:04:13.374963Z"
        },
        "trusted": true,
        "id": "-6RIkZWg79Ky",
        "outputId": "9be6c8cc-f2f1-4d23-9bec-61133ac4adc5"
      },
      "execution_count": null,
      "outputs": [
        {
          "name": "stdout",
          "text": "Total dataset size: 10000\nTraining dataset size: 7200\nValidation dataset size: 800\nTest dataset size: 1800\nTest validation dataset size: 200\n",
          "output_type": "stream"
        }
      ]
    },
    {
      "cell_type": "code",
      "source": [
        "from torch.utils.data import DataLoader\n",
        "from tqdm import tqdm\n",
        "\n",
        "class PatchEmbedding(nn.Module):\n",
        "    def __init__(self, img_size, patch_size, in_channels, hidden_size):\n",
        "        super().__init__()\n",
        "        self.patch_size = patch_size\n",
        "        self.num_patches = (img_size // patch_size) ** 2\n",
        "        self.patch_dim = in_channels * patch_size * patch_size\n",
        "        self.linear_proj = nn.Linear(self.patch_dim, hidden_size)\n",
        "\n",
        "    def forward(self, x):\n",
        "        batch_size, in_channels, height, width = x.shape\n",
        "        x = x.unfold(2, self.patch_size, self.patch_size).unfold(3, self.patch_size, self.patch_size)\n",
        "        x = x.contiguous().view(batch_size, in_channels, -1, self.patch_size * self.patch_size)\n",
        "        x = x.permute(0, 2, 1, 3).contiguous().view(batch_size, self.num_patches, -1)\n",
        "        return self.linear_proj(x)\n",
        "\n",
        "class VITAutoencoder(nn.Module):\n",
        "    def __init__(self, img_size, patch_size, in_channels, num_encoder_layers, num_decoder_layers, num_heads, hidden_size, max_seq_len, degree=3, device='cpu'):\n",
        "        super().__init__()\n",
        "        self.device = device\n",
        "        self.img_size = img_size\n",
        "        self.patch_size = patch_size\n",
        "        self.in_channels = in_channels\n",
        "\n",
        "        self.patch_embedding = PatchEmbedding(img_size, patch_size, in_channels, hidden_size).to(device)\n",
        "        self.position_embedding = nn.Parameter(torch.zeros(1, self.patch_embedding.num_patches, hidden_size).to(device))\n",
        "\n",
        "        self.transformer = Transformer(\n",
        "            in_channels=1,\n",
        "            num_encoder_layers=num_encoder_layers,\n",
        "            num_decoder_layers=num_decoder_layers,\n",
        "            num_features=hidden_size,\n",
        "            hidden_size=hidden_size,\n",
        "            num_heads=num_heads,\n",
        "            max_seq_len=max_seq_len,\n",
        "            degree=degree,\n",
        "            device=device\n",
        "        )\n",
        "\n",
        "        self.unpatch = nn.Linear(hidden_size, self.patch_embedding.patch_dim)\n",
        "\n",
        "    def forward(self, x):\n",
        "        x = self.patch_embedding(x)\n",
        "        x += self.position_embedding\n",
        "        x = self.transformer(x.unsqueeze(1)).squeeze(1)\n",
        "        x = self.unpatch(x)\n",
        "\n",
        "        batch_size = x.size(0)\n",
        "        x = x.view(batch_size, self.patch_embedding.num_patches, self.in_channels, self.patch_size, self.patch_size)\n",
        "        x = x.permute(0, 2, 1, 3, 4).contiguous()\n",
        "        x = x.view(batch_size, self.in_channels, self.img_size, self.img_size)\n",
        "\n",
        "        return torch.sigmoid(x)"
      ],
      "metadata": {
        "execution": {
          "iopub.status.busy": "2024-08-20T09:04:13.377002Z",
          "iopub.execute_input": "2024-08-20T09:04:13.377310Z",
          "iopub.status.idle": "2024-08-20T09:04:13.392314Z",
          "shell.execute_reply.started": "2024-08-20T09:04:13.377283Z",
          "shell.execute_reply": "2024-08-20T09:04:13.391439Z"
        },
        "trusted": true,
        "id": "4DVz3UOa79K3"
      },
      "execution_count": null,
      "outputs": []
    },
    {
      "cell_type": "code",
      "source": [
        "device = torch.device(\"cuda\" if torch.cuda.is_available() else \"cpu\")\n",
        "\n",
        "autoencoder = VITAutoencoder(\n",
        "    img_size=125,\n",
        "    patch_size=5,\n",
        "    in_channels=8,\n",
        "    num_encoder_layers=2,\n",
        "    num_decoder_layers=2,\n",
        "    num_heads=4,\n",
        "    hidden_size=128,\n",
        "    max_seq_len=625,\n",
        "    degree=3,\n",
        "    device=device\n",
        ").to(device)\n",
        "\n",
        "criterion = nn.BCELoss()\n",
        "optimizer = optim.Adam(autoencoder.parameters(), lr=1e-4)\n",
        "\n",
        "num_epochs = 10\n",
        "autoencoder.train()\n",
        "\n",
        "for epoch in range(num_epochs):\n",
        "    epoch_loss = 0\n",
        "    for batch_idx, (data, _) in enumerate(train_loader):\n",
        "        data = data.to(device)\n",
        "        optimizer.zero_grad()\n",
        "        output = autoencoder(data)\n",
        "        loss = criterion(output, data)\n",
        "        loss.backward()\n",
        "        optimizer.step()\n",
        "        epoch_loss += loss.item()\n",
        "\n",
        "    average_epoch_loss = epoch_loss / len(train_loader)\n",
        "    print(f'Epoch [{epoch+1}/{num_epochs}], Loss: {average_epoch_loss:.4f}')\n",
        "\n",
        "    # Validate\n",
        "    autoencoder.eval()\n",
        "    val_loss = 0\n",
        "    with torch.no_grad():\n",
        "        for batch_idx, (val_data, _) in enumerate(val_loader):\n",
        "            val_data = val_data.to(device)\n",
        "            val_output = autoencoder(val_data)\n",
        "            loss = criterion(val_output, val_data)\n",
        "            val_loss += loss.item()\n",
        "    average_val_loss = val_loss / len(val_loader)\n",
        "    print(f'Validation Loss: {average_val_loss:.4f}')\n",
        "    autoencoder.train()\n",
        "\n",
        "torch.save(autoencoder.state_dict(), 'pretrained_vit_autoencoder.pth')"
      ],
      "metadata": {
        "execution": {
          "iopub.status.busy": "2024-08-20T09:36:50.110381Z",
          "iopub.execute_input": "2024-08-20T09:36:50.110753Z",
          "iopub.status.idle": "2024-08-20T09:48:55.925333Z",
          "shell.execute_reply.started": "2024-08-20T09:36:50.110724Z",
          "shell.execute_reply": "2024-08-20T09:48:55.924066Z"
        },
        "trusted": true,
        "id": "1Ld6TKeb79K5",
        "outputId": "7d27a1e1-6ba5-44d5-af8b-354cbb1b2d7f"
      },
      "execution_count": null,
      "outputs": [
        {
          "name": "stdout",
          "text": "Epoch [1/10], Loss: 0.0778\nValidation Loss: 0.0168\nEpoch [2/10], Loss: 0.0165\nValidation Loss: 0.0160\nEpoch [3/10], Loss: 0.0152\nValidation Loss: 0.0148\nEpoch [4/10], Loss: 0.0145\nValidation Loss: 0.0144\nEpoch [5/10], Loss: 0.0142\nValidation Loss: 0.0142\nEpoch [6/10], Loss: 0.0140\nValidation Loss: 0.0140\nEpoch [7/10], Loss: 0.0138\nValidation Loss: 0.0138\nEpoch [8/10], Loss: 0.0135\nValidation Loss: 0.0135\nEpoch [9/10], Loss: 0.0133\nValidation Loss: 0.0133\nEpoch [10/10], Loss: 0.0132\nValidation Loss: 0.0132\n",
          "output_type": "stream"
        }
      ]
    },
    {
      "cell_type": "code",
      "source": [
        "pretrained_autoencoder = VITAutoencoder(\n",
        "    img_size=125,\n",
        "    patch_size=5,\n",
        "    in_channels=8,\n",
        "    num_encoder_layers=2,\n",
        "    num_decoder_layers=2,\n",
        "    num_heads=4,\n",
        "    hidden_size=128,\n",
        "    max_seq_len=625,\n",
        "    degree=3,\n",
        "    device=device\n",
        ").to(device)\n",
        "\n",
        "pretrained_autoencoder.load_state_dict(torch.load('pretrained_vit_autoencoder.pth'))"
      ],
      "metadata": {
        "execution": {
          "iopub.status.busy": "2024-08-20T09:52:33.506984Z",
          "iopub.execute_input": "2024-08-20T09:52:33.507677Z",
          "iopub.status.idle": "2024-08-20T09:52:33.548532Z",
          "shell.execute_reply.started": "2024-08-20T09:52:33.507645Z",
          "shell.execute_reply": "2024-08-20T09:52:33.547456Z"
        },
        "trusted": true,
        "id": "VAPrIDk779K7",
        "outputId": "c03f7b3d-45b4-4b4b-b440-7e31eb2e957b"
      },
      "execution_count": null,
      "outputs": [
        {
          "execution_count": 13,
          "output_type": "execute_result",
          "data": {
            "text/plain": "<All keys matched successfully>"
          },
          "metadata": {}
        }
      ]
    },
    {
      "cell_type": "markdown",
      "source": [
        "##  Linear Probe"
      ],
      "metadata": {
        "id": "xPoW0XtN79K8"
      }
    },
    {
      "cell_type": "code",
      "source": [
        "import torch\n",
        "import torch.nn as nn\n",
        "import torch.optim as optim\n",
        "from tqdm import tqdm\n",
        "import matplotlib.pyplot as plt\n",
        "\n",
        "class LinearProbe(nn.Module):\n",
        "    def __init__(self, pretrained_autoencoder, hidden_dim, num_classes=1):\n",
        "        super().__init__()\n",
        "        self.pretrained_autoencoder = pretrained_autoencoder\n",
        "        self.hidden_dim = hidden_dim\n",
        "\n",
        "        # Freeze the autoencoder parameters\n",
        "        for param in self.pretrained_autoencoder.parameters():\n",
        "            param.requires_grad = False\n",
        "\n",
        "        self.batchnorm = nn.BatchNorm1d(hidden_dim, momentum=0.01)\n",
        "        self.linear = nn.Linear(hidden_dim, num_classes)\n",
        "\n",
        "    def forward(self, x):\n",
        "        x = self.pretrained_autoencoder.patch_embedding(x)\n",
        "        x += self.pretrained_autoencoder.position_embedding\n",
        "\n",
        "        outputs = []\n",
        "        for encoder in self.pretrained_autoencoder.transformer.encoders:\n",
        "            outputs.append(encoder(x))\n",
        "        x = torch.stack(outputs, dim=1)\n",
        "\n",
        "        x = torch.mean(x, dim=1)\n",
        "\n",
        "        x = torch.mean(x, dim=1)\n",
        "\n",
        "        x = self.batchnorm(x)\n",
        "        return self.linear(x)\n",
        "\n",
        "def train_linear_probe(model, train_loader, val_loader, criterion, optimizer, num_epochs, device):\n",
        "    train_losses, val_losses = [], []\n",
        "    train_accuracies, val_accuracies = [], []\n",
        "\n",
        "    for epoch in range(num_epochs):\n",
        "        model.train()\n",
        "        train_loss = 0.0\n",
        "        train_correct = 0\n",
        "        train_total = 0\n",
        "\n",
        "        progress_bar = tqdm(train_loader, desc=f\"Epoch {epoch+1}/{num_epochs}\")\n",
        "        for data, labels in progress_bar:\n",
        "            data, labels = data.to(device), labels.to(device)\n",
        "\n",
        "            labels = labels.float()\n",
        "\n",
        "            optimizer.zero_grad()\n",
        "            outputs = model(data)\n",
        "            loss = criterion(outputs, labels)\n",
        "            loss.backward()\n",
        "            optimizer.step()\n",
        "\n",
        "            train_loss += loss.item() * data.size(0)\n",
        "            predicted = (torch.sigmoid(outputs) > 0.5).float()\n",
        "            train_correct += (predicted == labels).sum().item()\n",
        "            train_total += labels.size(0)\n",
        "\n",
        "        train_loss /= len(train_loader.dataset)\n",
        "        train_accuracy = 100. * train_correct / train_total\n",
        "        train_losses.append(train_loss)\n",
        "        train_accuracies.append(train_accuracy)\n",
        "\n",
        "        model.eval()\n",
        "        val_loss = 0.0\n",
        "        val_correct = 0\n",
        "        val_total = 0\n",
        "        with torch.no_grad():\n",
        "            for data, labels in val_loader:\n",
        "                data, labels = data.to(device), labels.to(device)\n",
        "\n",
        "                labels = labels.float()\n",
        "\n",
        "                outputs = model(data)\n",
        "                loss = criterion(outputs, labels)\n",
        "\n",
        "                val_loss += loss.item() * data.size(0)\n",
        "                predicted = (torch.sigmoid(outputs) > 0.5).float()\n",
        "                val_correct += (predicted == labels).sum().item()\n",
        "                val_total += labels.size(0)\n",
        "\n",
        "        val_loss /= len(val_loader.dataset)\n",
        "        val_accuracy = 100. * val_correct / val_total\n",
        "        val_losses.append(val_loss)\n",
        "        val_accuracies.append(val_accuracy)\n",
        "\n",
        "        print(f\"\\nEpoch {epoch+1}/{num_epochs}\")\n",
        "        print(f\"Train Loss: {train_loss:.4f}, Train Accuracy: {train_accuracy:.2f}%\")\n",
        "        print(f\"Val Loss: {val_loss:.4f}, Val Accuracy: {val_accuracy:.2f}%\")\n",
        "\n",
        "    return train_losses, val_losses, train_accuracies, val_accuracies\n"
      ],
      "metadata": {
        "execution": {
          "iopub.status.busy": "2024-08-20T09:52:34.671798Z",
          "iopub.execute_input": "2024-08-20T09:52:34.672926Z",
          "iopub.status.idle": "2024-08-20T09:52:34.691307Z",
          "shell.execute_reply.started": "2024-08-20T09:52:34.672891Z",
          "shell.execute_reply": "2024-08-20T09:52:34.690272Z"
        },
        "trusted": true,
        "id": "batPOfP079LA"
      },
      "execution_count": null,
      "outputs": []
    },
    {
      "cell_type": "code",
      "source": [
        "if __name__ == \"__main__\":\n",
        "    device = torch.device(\"cuda\" if torch.cuda.is_available() else \"cpu\")\n",
        "\n",
        "    num_classes = 1\n",
        "    hidden_dim = 128\n",
        "\n",
        "    linear_probe = LinearProbe(pretrained_autoencoder, hidden_dim=hidden_dim, num_classes=num_classes).to(device)\n",
        "\n",
        "    criterion = nn.BCEWithLogitsLoss()\n",
        "    optimizer = optim.Adam(linear_probe.parameters(), lr=0.001)\n",
        "\n",
        "    num_epochs = 30\n",
        "    train_losses, val_losses, train_accuracies, val_accuracies = train_linear_probe(\n",
        "        linear_probe, test_labeled_loader, test_val_loader, criterion, optimizer, num_epochs, device)\n",
        "\n",
        "    epochs = range(1, num_epochs + 1)\n",
        "\n",
        "    plt.figure(figsize=(12, 5))\n",
        "\n",
        "    # Loss\n",
        "    plt.subplot(1, 2, 1)\n",
        "    plt.plot(epochs, train_losses, 'b', label='Training loss')\n",
        "    plt.plot(epochs, val_losses, 'r', label='Validation loss')\n",
        "    plt.title('Training and Validation Loss')\n",
        "    plt.xlabel('Epochs')\n",
        "    plt.ylabel('Loss')\n",
        "    plt.legend()\n",
        "\n",
        "    # Accuracy\n",
        "    plt.subplot(1, 2, 2)\n",
        "    plt.plot(epochs, train_accuracies, 'b', label='Training accuracy')\n",
        "    plt.plot(epochs, val_accuracies, 'r', label='Validation accuracy')\n",
        "    plt.title('Training and Validation Accuracy')\n",
        "    plt.xlabel('Epochs')\n",
        "    plt.ylabel('Accuracy')\n",
        "    plt.legend()\n",
        "\n",
        "    plt.tight_layout()\n",
        "    plt.show()"
      ],
      "metadata": {
        "execution": {
          "iopub.status.busy": "2024-08-20T09:52:35.178653Z",
          "iopub.execute_input": "2024-08-20T09:52:35.178983Z",
          "iopub.status.idle": "2024-08-20T09:54:17.720267Z",
          "shell.execute_reply.started": "2024-08-20T09:52:35.178959Z",
          "shell.execute_reply": "2024-08-20T09:54:17.719363Z"
        },
        "trusted": true,
        "id": "1hf5sNZ379LD",
        "outputId": "5d464f9b-5991-4247-83eb-a04b3fcc78e6"
      },
      "execution_count": null,
      "outputs": [
        {
          "name": "stderr",
          "text": "Epoch 1/30: 100%|██████████| 57/57 [00:03<00:00, 18.25it/s]\n",
          "output_type": "stream"
        },
        {
          "name": "stdout",
          "text": "\nEpoch 1/30\nTrain Loss: 0.6555, Train Accuracy: 62.67%\nVal Loss: 0.9046, Val Accuracy: 46.00%\n",
          "output_type": "stream"
        },
        {
          "name": "stderr",
          "text": "Epoch 2/30: 100%|██████████| 57/57 [00:03<00:00, 18.69it/s]\n",
          "output_type": "stream"
        },
        {
          "name": "stdout",
          "text": "\nEpoch 2/30\nTrain Loss: 0.5895, Train Accuracy: 70.56%\nVal Loss: 1.1648, Val Accuracy: 46.00%\n",
          "output_type": "stream"
        },
        {
          "name": "stderr",
          "text": "Epoch 3/30: 100%|██████████| 57/57 [00:03<00:00, 18.46it/s]\n",
          "output_type": "stream"
        },
        {
          "name": "stdout",
          "text": "\nEpoch 3/30\nTrain Loss: 0.5654, Train Accuracy: 71.83%\nVal Loss: 1.1817, Val Accuracy: 46.00%\n",
          "output_type": "stream"
        },
        {
          "name": "stderr",
          "text": "Epoch 4/30: 100%|██████████| 57/57 [00:03<00:00, 18.62it/s]\n",
          "output_type": "stream"
        },
        {
          "name": "stdout",
          "text": "\nEpoch 4/30\nTrain Loss: 0.5532, Train Accuracy: 72.72%\nVal Loss: 1.0218, Val Accuracy: 46.00%\n",
          "output_type": "stream"
        },
        {
          "name": "stderr",
          "text": "Epoch 5/30: 100%|██████████| 57/57 [00:03<00:00, 18.71it/s]\n",
          "output_type": "stream"
        },
        {
          "name": "stdout",
          "text": "\nEpoch 5/30\nTrain Loss: 0.5457, Train Accuracy: 74.89%\nVal Loss: 0.8604, Val Accuracy: 46.00%\n",
          "output_type": "stream"
        },
        {
          "name": "stderr",
          "text": "Epoch 6/30: 100%|██████████| 57/57 [00:03<00:00, 18.58it/s]\n",
          "output_type": "stream"
        },
        {
          "name": "stdout",
          "text": "\nEpoch 6/30\nTrain Loss: 0.5407, Train Accuracy: 74.33%\nVal Loss: 0.7582, Val Accuracy: 48.00%\n",
          "output_type": "stream"
        },
        {
          "name": "stderr",
          "text": "Epoch 7/30: 100%|██████████| 57/57 [00:03<00:00, 18.53it/s]\n",
          "output_type": "stream"
        },
        {
          "name": "stdout",
          "text": "\nEpoch 7/30\nTrain Loss: 0.5402, Train Accuracy: 74.56%\nVal Loss: 0.6738, Val Accuracy: 57.50%\n",
          "output_type": "stream"
        },
        {
          "name": "stderr",
          "text": "Epoch 8/30: 100%|██████████| 57/57 [00:03<00:00, 18.75it/s]\n",
          "output_type": "stream"
        },
        {
          "name": "stdout",
          "text": "\nEpoch 8/30\nTrain Loss: 0.5366, Train Accuracy: 74.28%\nVal Loss: 0.5977, Val Accuracy: 69.50%\n",
          "output_type": "stream"
        },
        {
          "name": "stderr",
          "text": "Epoch 9/30: 100%|██████████| 57/57 [00:03<00:00, 18.67it/s]\n",
          "output_type": "stream"
        },
        {
          "name": "stdout",
          "text": "\nEpoch 9/30\nTrain Loss: 0.5313, Train Accuracy: 74.83%\nVal Loss: 0.5583, Val Accuracy: 75.00%\n",
          "output_type": "stream"
        },
        {
          "name": "stderr",
          "text": "Epoch 10/30: 100%|██████████| 57/57 [00:03<00:00, 18.51it/s]\n",
          "output_type": "stream"
        },
        {
          "name": "stdout",
          "text": "\nEpoch 10/30\nTrain Loss: 0.5289, Train Accuracy: 76.39%\nVal Loss: 0.5491, Val Accuracy: 75.00%\n",
          "output_type": "stream"
        },
        {
          "name": "stderr",
          "text": "Epoch 11/30: 100%|██████████| 57/57 [00:03<00:00, 18.69it/s]\n",
          "output_type": "stream"
        },
        {
          "name": "stdout",
          "text": "\nEpoch 11/30\nTrain Loss: 0.5223, Train Accuracy: 76.78%\nVal Loss: 0.5348, Val Accuracy: 76.50%\n",
          "output_type": "stream"
        },
        {
          "name": "stderr",
          "text": "Epoch 12/30: 100%|██████████| 57/57 [00:03<00:00, 18.49it/s]\n",
          "output_type": "stream"
        },
        {
          "name": "stdout",
          "text": "\nEpoch 12/30\nTrain Loss: 0.5204, Train Accuracy: 76.33%\nVal Loss: 0.5227, Val Accuracy: 78.00%\n",
          "output_type": "stream"
        },
        {
          "name": "stderr",
          "text": "Epoch 13/30: 100%|██████████| 57/57 [00:03<00:00, 18.61it/s]\n",
          "output_type": "stream"
        },
        {
          "name": "stdout",
          "text": "\nEpoch 13/30\nTrain Loss: 0.5144, Train Accuracy: 76.50%\nVal Loss: 0.5230, Val Accuracy: 78.50%\n",
          "output_type": "stream"
        },
        {
          "name": "stderr",
          "text": "Epoch 14/30: 100%|██████████| 57/57 [00:03<00:00, 18.69it/s]\n",
          "output_type": "stream"
        },
        {
          "name": "stdout",
          "text": "\nEpoch 14/30\nTrain Loss: 0.5185, Train Accuracy: 75.89%\nVal Loss: 0.5234, Val Accuracy: 77.00%\n",
          "output_type": "stream"
        },
        {
          "name": "stderr",
          "text": "Epoch 15/30: 100%|██████████| 57/57 [00:03<00:00, 18.71it/s]\n",
          "output_type": "stream"
        },
        {
          "name": "stdout",
          "text": "\nEpoch 15/30\nTrain Loss: 0.5190, Train Accuracy: 76.44%\nVal Loss: 0.5195, Val Accuracy: 77.00%\n",
          "output_type": "stream"
        },
        {
          "name": "stderr",
          "text": "Epoch 16/30: 100%|██████████| 57/57 [00:03<00:00, 18.66it/s]\n",
          "output_type": "stream"
        },
        {
          "name": "stdout",
          "text": "\nEpoch 16/30\nTrain Loss: 0.5157, Train Accuracy: 76.67%\nVal Loss: 0.5176, Val Accuracy: 77.00%\n",
          "output_type": "stream"
        },
        {
          "name": "stderr",
          "text": "Epoch 17/30: 100%|██████████| 57/57 [00:03<00:00, 18.66it/s]\n",
          "output_type": "stream"
        },
        {
          "name": "stdout",
          "text": "\nEpoch 17/30\nTrain Loss: 0.5169, Train Accuracy: 76.67%\nVal Loss: 0.5129, Val Accuracy: 77.00%\n",
          "output_type": "stream"
        },
        {
          "name": "stderr",
          "text": "Epoch 18/30: 100%|██████████| 57/57 [00:03<00:00, 18.67it/s]\n",
          "output_type": "stream"
        },
        {
          "name": "stdout",
          "text": "\nEpoch 18/30\nTrain Loss: 0.5172, Train Accuracy: 76.28%\nVal Loss: 0.5164, Val Accuracy: 77.00%\n",
          "output_type": "stream"
        },
        {
          "name": "stderr",
          "text": "Epoch 19/30: 100%|██████████| 57/57 [00:03<00:00, 18.63it/s]\n",
          "output_type": "stream"
        },
        {
          "name": "stdout",
          "text": "\nEpoch 19/30\nTrain Loss: 0.5098, Train Accuracy: 77.50%\nVal Loss: 0.5159, Val Accuracy: 78.00%\n",
          "output_type": "stream"
        },
        {
          "name": "stderr",
          "text": "Epoch 20/30: 100%|██████████| 57/57 [00:03<00:00, 18.77it/s]\n",
          "output_type": "stream"
        },
        {
          "name": "stdout",
          "text": "\nEpoch 20/30\nTrain Loss: 0.5156, Train Accuracy: 76.78%\nVal Loss: 0.5165, Val Accuracy: 76.50%\n",
          "output_type": "stream"
        },
        {
          "name": "stderr",
          "text": "Epoch 21/30: 100%|██████████| 57/57 [00:03<00:00, 18.50it/s]\n",
          "output_type": "stream"
        },
        {
          "name": "stdout",
          "text": "\nEpoch 21/30\nTrain Loss: 0.5116, Train Accuracy: 76.83%\nVal Loss: 0.5147, Val Accuracy: 77.00%\n",
          "output_type": "stream"
        },
        {
          "name": "stderr",
          "text": "Epoch 22/30: 100%|██████████| 57/57 [00:03<00:00, 18.71it/s]\n",
          "output_type": "stream"
        },
        {
          "name": "stdout",
          "text": "\nEpoch 22/30\nTrain Loss: 0.5132, Train Accuracy: 77.50%\nVal Loss: 0.5115, Val Accuracy: 77.00%\n",
          "output_type": "stream"
        },
        {
          "name": "stderr",
          "text": "Epoch 23/30: 100%|██████████| 57/57 [00:03<00:00, 18.73it/s]\n",
          "output_type": "stream"
        },
        {
          "name": "stdout",
          "text": "\nEpoch 23/30\nTrain Loss: 0.5104, Train Accuracy: 76.56%\nVal Loss: 0.5137, Val Accuracy: 76.00%\n",
          "output_type": "stream"
        },
        {
          "name": "stderr",
          "text": "Epoch 24/30: 100%|██████████| 57/57 [00:03<00:00, 18.68it/s]\n",
          "output_type": "stream"
        },
        {
          "name": "stdout",
          "text": "\nEpoch 24/30\nTrain Loss: 0.5075, Train Accuracy: 77.50%\nVal Loss: 0.5139, Val Accuracy: 76.00%\n",
          "output_type": "stream"
        },
        {
          "name": "stderr",
          "text": "Epoch 25/30: 100%|██████████| 57/57 [00:03<00:00, 18.74it/s]\n",
          "output_type": "stream"
        },
        {
          "name": "stdout",
          "text": "\nEpoch 25/30\nTrain Loss: 0.5040, Train Accuracy: 76.89%\nVal Loss: 0.5150, Val Accuracy: 77.00%\n",
          "output_type": "stream"
        },
        {
          "name": "stderr",
          "text": "Epoch 26/30: 100%|██████████| 57/57 [00:03<00:00, 18.78it/s]\n",
          "output_type": "stream"
        },
        {
          "name": "stdout",
          "text": "\nEpoch 26/30\nTrain Loss: 0.5136, Train Accuracy: 77.94%\nVal Loss: 0.5174, Val Accuracy: 76.50%\n",
          "output_type": "stream"
        },
        {
          "name": "stderr",
          "text": "Epoch 27/30: 100%|██████████| 57/57 [00:03<00:00, 18.76it/s]\n",
          "output_type": "stream"
        },
        {
          "name": "stdout",
          "text": "\nEpoch 27/30\nTrain Loss: 0.5110, Train Accuracy: 76.83%\nVal Loss: 0.5110, Val Accuracy: 76.50%\n",
          "output_type": "stream"
        },
        {
          "name": "stderr",
          "text": "Epoch 28/30: 100%|██████████| 57/57 [00:03<00:00, 18.66it/s]\n",
          "output_type": "stream"
        },
        {
          "name": "stdout",
          "text": "\nEpoch 28/30\nTrain Loss: 0.5035, Train Accuracy: 77.83%\nVal Loss: 0.5181, Val Accuracy: 76.50%\n",
          "output_type": "stream"
        },
        {
          "name": "stderr",
          "text": "Epoch 29/30: 100%|██████████| 57/57 [00:03<00:00, 18.79it/s]\n",
          "output_type": "stream"
        },
        {
          "name": "stdout",
          "text": "\nEpoch 29/30\nTrain Loss: 0.5098, Train Accuracy: 76.44%\nVal Loss: 0.5167, Val Accuracy: 76.50%\n",
          "output_type": "stream"
        },
        {
          "name": "stderr",
          "text": "Epoch 30/30: 100%|██████████| 57/57 [00:03<00:00, 18.55it/s]\n",
          "output_type": "stream"
        },
        {
          "name": "stdout",
          "text": "\nEpoch 30/30\nTrain Loss: 0.5052, Train Accuracy: 77.67%\nVal Loss: 0.5126, Val Accuracy: 76.50%\n",
          "output_type": "stream"
        },
        {
          "output_type": "display_data",
          "data": {
            "text/plain": "<Figure size 1200x500 with 2 Axes>",
            "image/png": "[encoded data removed]"
          },
          "metadata": {}
        }
      ]
    },
    {
      "cell_type": "code",
      "source": [],
      "metadata": {
        "id": "d_ih9x3P79LI"
      },
      "execution_count": null,
      "outputs": []
    }
  ]
}